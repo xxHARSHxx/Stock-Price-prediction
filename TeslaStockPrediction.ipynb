{
  "nbformat": 4,
  "nbformat_minor": 0,
  "metadata": {
    "colab": {
      "provenance": [],
      "authorship_tag": "ABX9TyPXnqVDpgnDofWdmh5dPC7H",
      "include_colab_link": true
    },
    "kernelspec": {
      "name": "python3",
      "display_name": "Python 3"
    },
    "language_info": {
      "name": "python"
    }
  },
  "cells": [
    {
      "cell_type": "markdown",
      "metadata": {
        "id": "view-in-github",
        "colab_type": "text"
      },
      "source": [
        "<a href=\"https://colab.research.google.com/github/xxHARSHxx/Stock-Price-prediction/blob/main/TeslaStockPrediction.ipynb\" target=\"_parent\"><img src=\"https://colab.research.google.com/assets/colab-badge.svg\" alt=\"Open In Colab\"/></a>"
      ]
    },
    {
      "cell_type": "code",
      "source": [
        "import pandas as pd\n",
        "from matplotlib import pyplot as plt\n",
        "import seaborn as sns\n",
        "import numpy as np"
      ],
      "metadata": {
        "id": "6eg5_NDDXG4J"
      },
      "execution_count": null,
      "outputs": []
    },
    {
      "cell_type": "code",
      "source": [
        "stock = pd.read_csv(\"archive.zip\")"
      ],
      "metadata": {
        "id": "2TLTA_jlXd3p"
      },
      "execution_count": null,
      "outputs": []
    },
    {
      "cell_type": "code",
      "source": [
        "stock.head()"
      ],
      "metadata": {
        "colab": {
          "base_uri": "https://localhost:8080/",
          "height": 206
        },
        "id": "tjTGUiENXlkR",
        "outputId": "6e47db07-cbd9-4e73-bf9a-251e90ed54fa"
      },
      "execution_count": null,
      "outputs": [
        {
          "output_type": "execute_result",
          "data": {
            "text/plain": [
              "         Date   Open   High    Low  Close  Adj Close    Volume\n",
              "0  2010-06-29  3.800  5.000  3.508  4.778      4.778  93831500\n",
              "1  2010-06-30  5.158  6.084  4.660  4.766      4.766  85935500\n",
              "2  2010-07-01  5.000  5.184  4.054  4.392      4.392  41094000\n",
              "3  2010-07-02  4.600  4.620  3.742  3.840      3.840  25699000\n",
              "4  2010-07-06  4.000  4.000  3.166  3.222      3.222  34334500"
            ],
            "text/html": [
              "\n",
              "  <div id=\"df-a9fddd7a-e1b6-4dc8-9e1b-d68b1e5371e0\">\n",
              "    <div class=\"colab-df-container\">\n",
              "      <div>\n",
              "<style scoped>\n",
              "    .dataframe tbody tr th:only-of-type {\n",
              "        vertical-align: middle;\n",
              "    }\n",
              "\n",
              "    .dataframe tbody tr th {\n",
              "        vertical-align: top;\n",
              "    }\n",
              "\n",
              "    .dataframe thead th {\n",
              "        text-align: right;\n",
              "    }\n",
              "</style>\n",
              "<table border=\"1\" class=\"dataframe\">\n",
              "  <thead>\n",
              "    <tr style=\"text-align: right;\">\n",
              "      <th></th>\n",
              "      <th>Date</th>\n",
              "      <th>Open</th>\n",
              "      <th>High</th>\n",
              "      <th>Low</th>\n",
              "      <th>Close</th>\n",
              "      <th>Adj Close</th>\n",
              "      <th>Volume</th>\n",
              "    </tr>\n",
              "  </thead>\n",
              "  <tbody>\n",
              "    <tr>\n",
              "      <th>0</th>\n",
              "      <td>2010-06-29</td>\n",
              "      <td>3.800</td>\n",
              "      <td>5.000</td>\n",
              "      <td>3.508</td>\n",
              "      <td>4.778</td>\n",
              "      <td>4.778</td>\n",
              "      <td>93831500</td>\n",
              "    </tr>\n",
              "    <tr>\n",
              "      <th>1</th>\n",
              "      <td>2010-06-30</td>\n",
              "      <td>5.158</td>\n",
              "      <td>6.084</td>\n",
              "      <td>4.660</td>\n",
              "      <td>4.766</td>\n",
              "      <td>4.766</td>\n",
              "      <td>85935500</td>\n",
              "    </tr>\n",
              "    <tr>\n",
              "      <th>2</th>\n",
              "      <td>2010-07-01</td>\n",
              "      <td>5.000</td>\n",
              "      <td>5.184</td>\n",
              "      <td>4.054</td>\n",
              "      <td>4.392</td>\n",
              "      <td>4.392</td>\n",
              "      <td>41094000</td>\n",
              "    </tr>\n",
              "    <tr>\n",
              "      <th>3</th>\n",
              "      <td>2010-07-02</td>\n",
              "      <td>4.600</td>\n",
              "      <td>4.620</td>\n",
              "      <td>3.742</td>\n",
              "      <td>3.840</td>\n",
              "      <td>3.840</td>\n",
              "      <td>25699000</td>\n",
              "    </tr>\n",
              "    <tr>\n",
              "      <th>4</th>\n",
              "      <td>2010-07-06</td>\n",
              "      <td>4.000</td>\n",
              "      <td>4.000</td>\n",
              "      <td>3.166</td>\n",
              "      <td>3.222</td>\n",
              "      <td>3.222</td>\n",
              "      <td>34334500</td>\n",
              "    </tr>\n",
              "  </tbody>\n",
              "</table>\n",
              "</div>\n",
              "      <button class=\"colab-df-convert\" onclick=\"convertToInteractive('df-a9fddd7a-e1b6-4dc8-9e1b-d68b1e5371e0')\"\n",
              "              title=\"Convert this dataframe to an interactive table.\"\n",
              "              style=\"display:none;\">\n",
              "        \n",
              "  <svg xmlns=\"http://www.w3.org/2000/svg\" height=\"24px\"viewBox=\"0 0 24 24\"\n",
              "       width=\"24px\">\n",
              "    <path d=\"M0 0h24v24H0V0z\" fill=\"none\"/>\n",
              "    <path d=\"M18.56 5.44l.94 2.06.94-2.06 2.06-.94-2.06-.94-.94-2.06-.94 2.06-2.06.94zm-11 1L8.5 8.5l.94-2.06 2.06-.94-2.06-.94L8.5 2.5l-.94 2.06-2.06.94zm10 10l.94 2.06.94-2.06 2.06-.94-2.06-.94-.94-2.06-.94 2.06-2.06.94z\"/><path d=\"M17.41 7.96l-1.37-1.37c-.4-.4-.92-.59-1.43-.59-.52 0-1.04.2-1.43.59L10.3 9.45l-7.72 7.72c-.78.78-.78 2.05 0 2.83L4 21.41c.39.39.9.59 1.41.59.51 0 1.02-.2 1.41-.59l7.78-7.78 2.81-2.81c.8-.78.8-2.07 0-2.86zM5.41 20L4 18.59l7.72-7.72 1.47 1.35L5.41 20z\"/>\n",
              "  </svg>\n",
              "      </button>\n",
              "      \n",
              "  <style>\n",
              "    .colab-df-container {\n",
              "      display:flex;\n",
              "      flex-wrap:wrap;\n",
              "      gap: 12px;\n",
              "    }\n",
              "\n",
              "    .colab-df-convert {\n",
              "      background-color: #E8F0FE;\n",
              "      border: none;\n",
              "      border-radius: 50%;\n",
              "      cursor: pointer;\n",
              "      display: none;\n",
              "      fill: #1967D2;\n",
              "      height: 32px;\n",
              "      padding: 0 0 0 0;\n",
              "      width: 32px;\n",
              "    }\n",
              "\n",
              "    .colab-df-convert:hover {\n",
              "      background-color: #E2EBFA;\n",
              "      box-shadow: 0px 1px 2px rgba(60, 64, 67, 0.3), 0px 1px 3px 1px rgba(60, 64, 67, 0.15);\n",
              "      fill: #174EA6;\n",
              "    }\n",
              "\n",
              "    [theme=dark] .colab-df-convert {\n",
              "      background-color: #3B4455;\n",
              "      fill: #D2E3FC;\n",
              "    }\n",
              "\n",
              "    [theme=dark] .colab-df-convert:hover {\n",
              "      background-color: #434B5C;\n",
              "      box-shadow: 0px 1px 3px 1px rgba(0, 0, 0, 0.15);\n",
              "      filter: drop-shadow(0px 1px 2px rgba(0, 0, 0, 0.3));\n",
              "      fill: #FFFFFF;\n",
              "    }\n",
              "  </style>\n",
              "\n",
              "      <script>\n",
              "        const buttonEl =\n",
              "          document.querySelector('#df-a9fddd7a-e1b6-4dc8-9e1b-d68b1e5371e0 button.colab-df-convert');\n",
              "        buttonEl.style.display =\n",
              "          google.colab.kernel.accessAllowed ? 'block' : 'none';\n",
              "\n",
              "        async function convertToInteractive(key) {\n",
              "          const element = document.querySelector('#df-a9fddd7a-e1b6-4dc8-9e1b-d68b1e5371e0');\n",
              "          const dataTable =\n",
              "            await google.colab.kernel.invokeFunction('convertToInteractive',\n",
              "                                                     [key], {});\n",
              "          if (!dataTable) return;\n",
              "\n",
              "          const docLinkHtml = 'Like what you see? Visit the ' +\n",
              "            '<a target=\"_blank\" href=https://colab.research.google.com/notebooks/data_table.ipynb>data table notebook</a>'\n",
              "            + ' to learn more about interactive tables.';\n",
              "          element.innerHTML = '';\n",
              "          dataTable['output_type'] = 'display_data';\n",
              "          await google.colab.output.renderOutput(dataTable, element);\n",
              "          const docLink = document.createElement('div');\n",
              "          docLink.innerHTML = docLinkHtml;\n",
              "          element.appendChild(docLink);\n",
              "        }\n",
              "      </script>\n",
              "    </div>\n",
              "  </div>\n",
              "  "
            ]
          },
          "metadata": {},
          "execution_count": 42
        }
      ]
    },
    {
      "cell_type": "code",
      "source": [
        "stock.info()"
      ],
      "metadata": {
        "colab": {
          "base_uri": "https://localhost:8080/"
        },
        "id": "2uF0MNtmX47o",
        "outputId": "a1fdb04e-c18d-4c10-9a4f-b72926474737"
      },
      "execution_count": null,
      "outputs": [
        {
          "output_type": "stream",
          "name": "stdout",
          "text": [
            "<class 'pandas.core.frame.DataFrame'>\n",
            "RangeIndex: 2956 entries, 0 to 2955\n",
            "Data columns (total 7 columns):\n",
            " #   Column     Non-Null Count  Dtype  \n",
            "---  ------     --------------  -----  \n",
            " 0   Date       2956 non-null   object \n",
            " 1   Open       2956 non-null   float64\n",
            " 2   High       2956 non-null   float64\n",
            " 3   Low        2956 non-null   float64\n",
            " 4   Close      2956 non-null   float64\n",
            " 5   Adj Close  2956 non-null   float64\n",
            " 6   Volume     2956 non-null   int64  \n",
            "dtypes: float64(5), int64(1), object(1)\n",
            "memory usage: 161.8+ KB\n"
          ]
        }
      ]
    },
    {
      "cell_type": "code",
      "source": [
        "stock.shape"
      ],
      "metadata": {
        "colab": {
          "base_uri": "https://localhost:8080/"
        },
        "id": "QN0TKLzOYAiN",
        "outputId": "ccdc7b91-7af9-4a8f-b697-acd32f376013"
      },
      "execution_count": null,
      "outputs": [
        {
          "output_type": "execute_result",
          "data": {
            "text/plain": [
              "(2956, 7)"
            ]
          },
          "metadata": {},
          "execution_count": 44
        }
      ]
    },
    {
      "cell_type": "code",
      "source": [
        "stock.describe()"
      ],
      "metadata": {
        "colab": {
          "base_uri": "https://localhost:8080/",
          "height": 300
        },
        "id": "jTXhwFnfYDAK",
        "outputId": "71075c25-275f-4008-9573-7ff846074a16"
      },
      "execution_count": null,
      "outputs": [
        {
          "output_type": "execute_result",
          "data": {
            "text/plain": [
              "              Open         High          Low        Close    Adj Close  \\\n",
              "count  2956.000000  2956.000000  2956.000000  2956.000000  2956.000000   \n",
              "mean    138.691296   141.771603   135.425953   138.762183   138.762183   \n",
              "std     250.044839   255.863239   243.774157   250.123115   250.123115   \n",
              "min       3.228000     3.326000     2.996000     3.160000     3.160000   \n",
              "25%      19.627000    20.402000    19.127500    19.615000    19.615000   \n",
              "50%      46.656999    47.487001    45.820002    46.545000    46.545000   \n",
              "75%      68.057001    69.357500    66.911501    68.103998    68.103998   \n",
              "max    1234.410034  1243.489990  1217.000000  1229.910034  1229.910034   \n",
              "\n",
              "             Volume  \n",
              "count  2.956000e+03  \n",
              "mean   3.131449e+07  \n",
              "std    2.798383e+07  \n",
              "min    5.925000e+05  \n",
              "25%    1.310288e+07  \n",
              "50%    2.488680e+07  \n",
              "75%    3.973875e+07  \n",
              "max    3.046940e+08  "
            ],
            "text/html": [
              "\n",
              "  <div id=\"df-b3adb8f6-c3f6-4a60-a97c-fd5859aaaabb\">\n",
              "    <div class=\"colab-df-container\">\n",
              "      <div>\n",
              "<style scoped>\n",
              "    .dataframe tbody tr th:only-of-type {\n",
              "        vertical-align: middle;\n",
              "    }\n",
              "\n",
              "    .dataframe tbody tr th {\n",
              "        vertical-align: top;\n",
              "    }\n",
              "\n",
              "    .dataframe thead th {\n",
              "        text-align: right;\n",
              "    }\n",
              "</style>\n",
              "<table border=\"1\" class=\"dataframe\">\n",
              "  <thead>\n",
              "    <tr style=\"text-align: right;\">\n",
              "      <th></th>\n",
              "      <th>Open</th>\n",
              "      <th>High</th>\n",
              "      <th>Low</th>\n",
              "      <th>Close</th>\n",
              "      <th>Adj Close</th>\n",
              "      <th>Volume</th>\n",
              "    </tr>\n",
              "  </thead>\n",
              "  <tbody>\n",
              "    <tr>\n",
              "      <th>count</th>\n",
              "      <td>2956.000000</td>\n",
              "      <td>2956.000000</td>\n",
              "      <td>2956.000000</td>\n",
              "      <td>2956.000000</td>\n",
              "      <td>2956.000000</td>\n",
              "      <td>2.956000e+03</td>\n",
              "    </tr>\n",
              "    <tr>\n",
              "      <th>mean</th>\n",
              "      <td>138.691296</td>\n",
              "      <td>141.771603</td>\n",
              "      <td>135.425953</td>\n",
              "      <td>138.762183</td>\n",
              "      <td>138.762183</td>\n",
              "      <td>3.131449e+07</td>\n",
              "    </tr>\n",
              "    <tr>\n",
              "      <th>std</th>\n",
              "      <td>250.044839</td>\n",
              "      <td>255.863239</td>\n",
              "      <td>243.774157</td>\n",
              "      <td>250.123115</td>\n",
              "      <td>250.123115</td>\n",
              "      <td>2.798383e+07</td>\n",
              "    </tr>\n",
              "    <tr>\n",
              "      <th>min</th>\n",
              "      <td>3.228000</td>\n",
              "      <td>3.326000</td>\n",
              "      <td>2.996000</td>\n",
              "      <td>3.160000</td>\n",
              "      <td>3.160000</td>\n",
              "      <td>5.925000e+05</td>\n",
              "    </tr>\n",
              "    <tr>\n",
              "      <th>25%</th>\n",
              "      <td>19.627000</td>\n",
              "      <td>20.402000</td>\n",
              "      <td>19.127500</td>\n",
              "      <td>19.615000</td>\n",
              "      <td>19.615000</td>\n",
              "      <td>1.310288e+07</td>\n",
              "    </tr>\n",
              "    <tr>\n",
              "      <th>50%</th>\n",
              "      <td>46.656999</td>\n",
              "      <td>47.487001</td>\n",
              "      <td>45.820002</td>\n",
              "      <td>46.545000</td>\n",
              "      <td>46.545000</td>\n",
              "      <td>2.488680e+07</td>\n",
              "    </tr>\n",
              "    <tr>\n",
              "      <th>75%</th>\n",
              "      <td>68.057001</td>\n",
              "      <td>69.357500</td>\n",
              "      <td>66.911501</td>\n",
              "      <td>68.103998</td>\n",
              "      <td>68.103998</td>\n",
              "      <td>3.973875e+07</td>\n",
              "    </tr>\n",
              "    <tr>\n",
              "      <th>max</th>\n",
              "      <td>1234.410034</td>\n",
              "      <td>1243.489990</td>\n",
              "      <td>1217.000000</td>\n",
              "      <td>1229.910034</td>\n",
              "      <td>1229.910034</td>\n",
              "      <td>3.046940e+08</td>\n",
              "    </tr>\n",
              "  </tbody>\n",
              "</table>\n",
              "</div>\n",
              "      <button class=\"colab-df-convert\" onclick=\"convertToInteractive('df-b3adb8f6-c3f6-4a60-a97c-fd5859aaaabb')\"\n",
              "              title=\"Convert this dataframe to an interactive table.\"\n",
              "              style=\"display:none;\">\n",
              "        \n",
              "  <svg xmlns=\"http://www.w3.org/2000/svg\" height=\"24px\"viewBox=\"0 0 24 24\"\n",
              "       width=\"24px\">\n",
              "    <path d=\"M0 0h24v24H0V0z\" fill=\"none\"/>\n",
              "    <path d=\"M18.56 5.44l.94 2.06.94-2.06 2.06-.94-2.06-.94-.94-2.06-.94 2.06-2.06.94zm-11 1L8.5 8.5l.94-2.06 2.06-.94-2.06-.94L8.5 2.5l-.94 2.06-2.06.94zm10 10l.94 2.06.94-2.06 2.06-.94-2.06-.94-.94-2.06-.94 2.06-2.06.94z\"/><path d=\"M17.41 7.96l-1.37-1.37c-.4-.4-.92-.59-1.43-.59-.52 0-1.04.2-1.43.59L10.3 9.45l-7.72 7.72c-.78.78-.78 2.05 0 2.83L4 21.41c.39.39.9.59 1.41.59.51 0 1.02-.2 1.41-.59l7.78-7.78 2.81-2.81c.8-.78.8-2.07 0-2.86zM5.41 20L4 18.59l7.72-7.72 1.47 1.35L5.41 20z\"/>\n",
              "  </svg>\n",
              "      </button>\n",
              "      \n",
              "  <style>\n",
              "    .colab-df-container {\n",
              "      display:flex;\n",
              "      flex-wrap:wrap;\n",
              "      gap: 12px;\n",
              "    }\n",
              "\n",
              "    .colab-df-convert {\n",
              "      background-color: #E8F0FE;\n",
              "      border: none;\n",
              "      border-radius: 50%;\n",
              "      cursor: pointer;\n",
              "      display: none;\n",
              "      fill: #1967D2;\n",
              "      height: 32px;\n",
              "      padding: 0 0 0 0;\n",
              "      width: 32px;\n",
              "    }\n",
              "\n",
              "    .colab-df-convert:hover {\n",
              "      background-color: #E2EBFA;\n",
              "      box-shadow: 0px 1px 2px rgba(60, 64, 67, 0.3), 0px 1px 3px 1px rgba(60, 64, 67, 0.15);\n",
              "      fill: #174EA6;\n",
              "    }\n",
              "\n",
              "    [theme=dark] .colab-df-convert {\n",
              "      background-color: #3B4455;\n",
              "      fill: #D2E3FC;\n",
              "    }\n",
              "\n",
              "    [theme=dark] .colab-df-convert:hover {\n",
              "      background-color: #434B5C;\n",
              "      box-shadow: 0px 1px 3px 1px rgba(0, 0, 0, 0.15);\n",
              "      filter: drop-shadow(0px 1px 2px rgba(0, 0, 0, 0.3));\n",
              "      fill: #FFFFFF;\n",
              "    }\n",
              "  </style>\n",
              "\n",
              "      <script>\n",
              "        const buttonEl =\n",
              "          document.querySelector('#df-b3adb8f6-c3f6-4a60-a97c-fd5859aaaabb button.colab-df-convert');\n",
              "        buttonEl.style.display =\n",
              "          google.colab.kernel.accessAllowed ? 'block' : 'none';\n",
              "\n",
              "        async function convertToInteractive(key) {\n",
              "          const element = document.querySelector('#df-b3adb8f6-c3f6-4a60-a97c-fd5859aaaabb');\n",
              "          const dataTable =\n",
              "            await google.colab.kernel.invokeFunction('convertToInteractive',\n",
              "                                                     [key], {});\n",
              "          if (!dataTable) return;\n",
              "\n",
              "          const docLinkHtml = 'Like what you see? Visit the ' +\n",
              "            '<a target=\"_blank\" href=https://colab.research.google.com/notebooks/data_table.ipynb>data table notebook</a>'\n",
              "            + ' to learn more about interactive tables.';\n",
              "          element.innerHTML = '';\n",
              "          dataTable['output_type'] = 'display_data';\n",
              "          await google.colab.output.renderOutput(dataTable, element);\n",
              "          const docLink = document.createElement('div');\n",
              "          docLink.innerHTML = docLinkHtml;\n",
              "          element.appendChild(docLink);\n",
              "        }\n",
              "      </script>\n",
              "    </div>\n",
              "  </div>\n",
              "  "
            ]
          },
          "metadata": {},
          "execution_count": 45
        }
      ]
    },
    {
      "cell_type": "code",
      "source": [
        "stock.isnull().sum()"
      ],
      "metadata": {
        "colab": {
          "base_uri": "https://localhost:8080/"
        },
        "id": "DjhP12bWYE4W",
        "outputId": "ec590b34-7786-4f26-ccbe-b38e3b8f1fa2"
      },
      "execution_count": null,
      "outputs": [
        {
          "output_type": "execute_result",
          "data": {
            "text/plain": [
              "Date         0\n",
              "Open         0\n",
              "High         0\n",
              "Low          0\n",
              "Close        0\n",
              "Adj Close    0\n",
              "Volume       0\n",
              "dtype: int64"
            ]
          },
          "metadata": {},
          "execution_count": 46
        }
      ]
    },
    {
      "cell_type": "code",
      "source": [
        "stock.hist(figsize=(15, 10))"
      ],
      "metadata": {
        "colab": {
          "base_uri": "https://localhost:8080/",
          "height": 725
        },
        "id": "8n9Q6uLdYHkY",
        "outputId": "333f0b70-9b28-4673-c38c-d3c8daccfbcf"
      },
      "execution_count": null,
      "outputs": [
        {
          "output_type": "execute_result",
          "data": {
            "text/plain": [
              "array([[<Axes: title={'center': 'Open'}>,\n",
              "        <Axes: title={'center': 'High'}>],\n",
              "       [<Axes: title={'center': 'Low'}>,\n",
              "        <Axes: title={'center': 'Close'}>],\n",
              "       [<Axes: title={'center': 'Adj Close'}>,\n",
              "        <Axes: title={'center': 'Volume'}>]], dtype=object)"
            ]
          },
          "metadata": {},
          "execution_count": 47
        },
        {
          "output_type": "display_data",
          "data": {
            "text/plain": [
              "<Figure size 1080x720 with 6 Axes>"
            ],
            "image/png": "[encoded data removed]"
          },
          "metadata": {
            "needs_background": "light"
          }
        }
      ]
    },
    {
      "cell_type": "code",
      "source": [
        "plt.figure(figsize=(7,5))\n",
        "pd.plotting.scatter_matrix(stock)"
      ],
      "metadata": {
        "colab": {
          "base_uri": "https://localhost:8080/",
          "height": 931
        },
        "id": "LeZJnp72YMoR",
        "outputId": "ecfdc4ac-405e-4176-fae0-6b53c8b8b760"
      },
      "execution_count": null,
      "outputs": [
        {
          "output_type": "execute_result",
          "data": {
            "text/plain": [
              "array([[<Axes: xlabel='Open', ylabel='Open'>,\n",
              "        <Axes: xlabel='High', ylabel='Open'>,\n",
              "        <Axes: xlabel='Low', ylabel='Open'>,\n",
              "        <Axes: xlabel='Close', ylabel='Open'>,\n",
              "        <Axes: xlabel='Adj Close', ylabel='Open'>,\n",
              "        <Axes: xlabel='Volume', ylabel='Open'>],\n",
              "       [<Axes: xlabel='Open', ylabel='High'>,\n",
              "        <Axes: xlabel='High', ylabel='High'>,\n",
              "        <Axes: xlabel='Low', ylabel='High'>,\n",
              "        <Axes: xlabel='Close', ylabel='High'>,\n",
              "        <Axes: xlabel='Adj Close', ylabel='High'>,\n",
              "        <Axes: xlabel='Volume', ylabel='High'>],\n",
              "       [<Axes: xlabel='Open', ylabel='Low'>,\n",
              "        <Axes: xlabel='High', ylabel='Low'>,\n",
              "        <Axes: xlabel='Low', ylabel='Low'>,\n",
              "        <Axes: xlabel='Close', ylabel='Low'>,\n",
              "        <Axes: xlabel='Adj Close', ylabel='Low'>,\n",
              "        <Axes: xlabel='Volume', ylabel='Low'>],\n",
              "       [<Axes: xlabel='Open', ylabel='Close'>,\n",
              "        <Axes: xlabel='High', ylabel='Close'>,\n",
              "        <Axes: xlabel='Low', ylabel='Close'>,\n",
              "        <Axes: xlabel='Close', ylabel='Close'>,\n",
              "        <Axes: xlabel='Adj Close', ylabel='Close'>,\n",
              "        <Axes: xlabel='Volume', ylabel='Close'>],\n",
              "       [<Axes: xlabel='Open', ylabel='Adj Close'>,\n",
              "        <Axes: xlabel='High', ylabel='Adj Close'>,\n",
              "        <Axes: xlabel='Low', ylabel='Adj Close'>,\n",
              "        <Axes: xlabel='Close', ylabel='Adj Close'>,\n",
              "        <Axes: xlabel='Adj Close', ylabel='Adj Close'>,\n",
              "        <Axes: xlabel='Volume', ylabel='Adj Close'>],\n",
              "       [<Axes: xlabel='Open', ylabel='Volume'>,\n",
              "        <Axes: xlabel='High', ylabel='Volume'>,\n",
              "        <Axes: xlabel='Low', ylabel='Volume'>,\n",
              "        <Axes: xlabel='Close', ylabel='Volume'>,\n",
              "        <Axes: xlabel='Adj Close', ylabel='Volume'>,\n",
              "        <Axes: xlabel='Volume', ylabel='Volume'>]], dtype=object)"
            ]
          },
          "metadata": {},
          "execution_count": 48
        },
        {
          "output_type": "display_data",
          "data": {
            "text/plain": [
              "<Figure size 504x360 with 0 Axes>"
            ]
          },
          "metadata": {}
        },
        {
          "output_type": "display_data",
          "data": {
            "text/plain": [
              "<Figure size 432x288 with 36 Axes>"
            ],
            "image/png": "[encoded data removed]"
          },
          "metadata": {
            "needs_background": "light"
          }
        }
      ]
    },
    {
      "cell_type": "code",
      "source": [
        "lines = stock.plot.line(x='Date', y='Volume')"
      ],
      "metadata": {
        "colab": {
          "base_uri": "https://localhost:8080/",
          "height": 290
        },
        "id": "F8A5lDEnYROM",
        "outputId": "64eaf5f1-dae8-47c3-e624-9469900c99f1"
      },
      "execution_count": null,
      "outputs": [
        {
          "output_type": "display_data",
          "data": {
            "text/plain": [
              "<Figure size 432x288 with 1 Axes>"
            ],
            "image/png": "[encoded data removed]"
          },
          "metadata": {
            "needs_background": "light"
          }
        }
      ]
    },
    {
      "cell_type": "code",
      "source": [
        "plt.figure(figsize=(7,5))\n",
        "sns.heatmap(stock.corr(),cmap='autumn',annot=True)"
      ],
      "metadata": {
        "colab": {
          "base_uri": "https://localhost:8080/",
          "height": 341
        },
        "id": "-ZcsLNqvYWAl",
        "outputId": "59aa902e-1309-4932-f160-f7854dfe3235"
      },
      "execution_count": null,
      "outputs": [
        {
          "output_type": "execute_result",
          "data": {
            "text/plain": [
              "<Axes: >"
            ]
          },
          "metadata": {},
          "execution_count": 50
        },
        {
          "output_type": "display_data",
          "data": {
            "text/plain": [
              "<Figure size 504x360 with 2 Axes>"
            ],
            "image/png": "[encoded data removed]"
          },
          "metadata": {
            "needs_background": "light"
          }
        }
      ]
    },
    {
      "cell_type": "code",
      "source": [
        "features = ['Open', 'High', 'Low', 'Close', 'Adj Close', 'Volume']\n",
        "\n",
        "plt.subplots(figsize=(20,10))\n",
        "for i, col in enumerate(features):\n",
        "  plt.subplot(2,3,i+1)\n",
        "  sns.boxplot(stock[col])\n",
        "plt.show()"
      ],
      "metadata": {
        "colab": {
          "base_uri": "https://localhost:8080/",
          "height": 647
        },
        "id": "vitrPFkTYY35",
        "outputId": "f47a477d-2492-4220-e0cb-d7760f4cbc1f"
      },
      "execution_count": null,
      "outputs": [
        {
          "output_type": "stream",
          "name": "stderr",
          "text": [
            "<ipython-input-51-f99f92513331>:5: MatplotlibDeprecationWarning: Auto-removal of overlapping axes is deprecated since 3.6 and will be removed two minor releases later; explicitly call ax.remove() as needed.\n",
            "  plt.subplot(2,3,i+1)\n"
          ]
        },
        {
          "output_type": "display_data",
          "data": {
            "text/plain": [
              "<Figure size 1440x720 with 6 Axes>"
            ],
            "image/png": "[encoded data removed]"
          },
          "metadata": {
            "needs_background": "light"
          }
        }
      ]
    },
    {
      "cell_type": "code",
      "source": [
        "#splitting Date into day,month,year\n",
        "splitted = stock['Date'].str.split('-', expand=True)\n",
        "\n",
        "stock['day'] = splitted[2].astype('int')\n",
        "stock['month'] = splitted[1].astype('int')\n",
        "stock['year'] = splitted[0].astype('int')\n",
        "\n",
        "stock.head()"
      ],
      "metadata": {
        "colab": {
          "base_uri": "https://localhost:8080/",
          "height": 206
        },
        "id": "l_VYRUeNYb36",
        "outputId": "c08639d5-f1cf-489d-b4d4-966249eec3f6"
      },
      "execution_count": null,
      "outputs": [
        {
          "output_type": "execute_result",
          "data": {
            "text/plain": [
              "         Date   Open   High    Low  Close  Adj Close    Volume  day  month  \\\n",
              "0  2010-06-29  3.800  5.000  3.508  4.778      4.778  93831500   29      6   \n",
              "1  2010-06-30  5.158  6.084  4.660  4.766      4.766  85935500   30      6   \n",
              "2  2010-07-01  5.000  5.184  4.054  4.392      4.392  41094000    1      7   \n",
              "3  2010-07-02  4.600  4.620  3.742  3.840      3.840  25699000    2      7   \n",
              "4  2010-07-06  4.000  4.000  3.166  3.222      3.222  34334500    6      7   \n",
              "\n",
              "   year  \n",
              "0  2010  \n",
              "1  2010  \n",
              "2  2010  \n",
              "3  2010  \n",
              "4  2010  "
            ],
            "text/html": [
              "\n",
              "  <div id=\"df-263efc00-c93c-4332-827e-a9dafc24bc02\">\n",
              "    <div class=\"colab-df-container\">\n",
              "      <div>\n",
              "<style scoped>\n",
              "    .dataframe tbody tr th:only-of-type {\n",
              "        vertical-align: middle;\n",
              "    }\n",
              "\n",
              "    .dataframe tbody tr th {\n",
              "        vertical-align: top;\n",
              "    }\n",
              "\n",
              "    .dataframe thead th {\n",
              "        text-align: right;\n",
              "    }\n",
              "</style>\n",
              "<table border=\"1\" class=\"dataframe\">\n",
              "  <thead>\n",
              "    <tr style=\"text-align: right;\">\n",
              "      <th></th>\n",
              "      <th>Date</th>\n",
              "      <th>Open</th>\n",
              "      <th>High</th>\n",
              "      <th>Low</th>\n",
              "      <th>Close</th>\n",
              "      <th>Adj Close</th>\n",
              "      <th>Volume</th>\n",
              "      <th>day</th>\n",
              "      <th>month</th>\n",
              "      <th>year</th>\n",
              "    </tr>\n",
              "  </thead>\n",
              "  <tbody>\n",
              "    <tr>\n",
              "      <th>0</th>\n",
              "      <td>2010-06-29</td>\n",
              "      <td>3.800</td>\n",
              "      <td>5.000</td>\n",
              "      <td>3.508</td>\n",
              "      <td>4.778</td>\n",
              "      <td>4.778</td>\n",
              "      <td>93831500</td>\n",
              "      <td>29</td>\n",
              "      <td>6</td>\n",
              "      <td>2010</td>\n",
              "    </tr>\n",
              "    <tr>\n",
              "      <th>1</th>\n",
              "      <td>2010-06-30</td>\n",
              "      <td>5.158</td>\n",
              "      <td>6.084</td>\n",
              "      <td>4.660</td>\n",
              "      <td>4.766</td>\n",
              "      <td>4.766</td>\n",
              "      <td>85935500</td>\n",
              "      <td>30</td>\n",
              "      <td>6</td>\n",
              "      <td>2010</td>\n",
              "    </tr>\n",
              "    <tr>\n",
              "      <th>2</th>\n",
              "      <td>2010-07-01</td>\n",
              "      <td>5.000</td>\n",
              "      <td>5.184</td>\n",
              "      <td>4.054</td>\n",
              "      <td>4.392</td>\n",
              "      <td>4.392</td>\n",
              "      <td>41094000</td>\n",
              "      <td>1</td>\n",
              "      <td>7</td>\n",
              "      <td>2010</td>\n",
              "    </tr>\n",
              "    <tr>\n",
              "      <th>3</th>\n",
              "      <td>2010-07-02</td>\n",
              "      <td>4.600</td>\n",
              "      <td>4.620</td>\n",
              "      <td>3.742</td>\n",
              "      <td>3.840</td>\n",
              "      <td>3.840</td>\n",
              "      <td>25699000</td>\n",
              "      <td>2</td>\n",
              "      <td>7</td>\n",
              "      <td>2010</td>\n",
              "    </tr>\n",
              "    <tr>\n",
              "      <th>4</th>\n",
              "      <td>2010-07-06</td>\n",
              "      <td>4.000</td>\n",
              "      <td>4.000</td>\n",
              "      <td>3.166</td>\n",
              "      <td>3.222</td>\n",
              "      <td>3.222</td>\n",
              "      <td>34334500</td>\n",
              "      <td>6</td>\n",
              "      <td>7</td>\n",
              "      <td>2010</td>\n",
              "    </tr>\n",
              "  </tbody>\n",
              "</table>\n",
              "</div>\n",
              "      <button class=\"colab-df-convert\" onclick=\"convertToInteractive('df-263efc00-c93c-4332-827e-a9dafc24bc02')\"\n",
              "              title=\"Convert this dataframe to an interactive table.\"\n",
              "              style=\"display:none;\">\n",
              "        \n",
              "  <svg xmlns=\"http://www.w3.org/2000/svg\" height=\"24px\"viewBox=\"0 0 24 24\"\n",
              "       width=\"24px\">\n",
              "    <path d=\"M0 0h24v24H0V0z\" fill=\"none\"/>\n",
              "    <path d=\"M18.56 5.44l.94 2.06.94-2.06 2.06-.94-2.06-.94-.94-2.06-.94 2.06-2.06.94zm-11 1L8.5 8.5l.94-2.06 2.06-.94-2.06-.94L8.5 2.5l-.94 2.06-2.06.94zm10 10l.94 2.06.94-2.06 2.06-.94-2.06-.94-.94-2.06-.94 2.06-2.06.94z\"/><path d=\"M17.41 7.96l-1.37-1.37c-.4-.4-.92-.59-1.43-.59-.52 0-1.04.2-1.43.59L10.3 9.45l-7.72 7.72c-.78.78-.78 2.05 0 2.83L4 21.41c.39.39.9.59 1.41.59.51 0 1.02-.2 1.41-.59l7.78-7.78 2.81-2.81c.8-.78.8-2.07 0-2.86zM5.41 20L4 18.59l7.72-7.72 1.47 1.35L5.41 20z\"/>\n",
              "  </svg>\n",
              "      </button>\n",
              "      \n",
              "  <style>\n",
              "    .colab-df-container {\n",
              "      display:flex;\n",
              "      flex-wrap:wrap;\n",
              "      gap: 12px;\n",
              "    }\n",
              "\n",
              "    .colab-df-convert {\n",
              "      background-color: #E8F0FE;\n",
              "      border: none;\n",
              "      border-radius: 50%;\n",
              "      cursor: pointer;\n",
              "      display: none;\n",
              "      fill: #1967D2;\n",
              "      height: 32px;\n",
              "      padding: 0 0 0 0;\n",
              "      width: 32px;\n",
              "    }\n",
              "\n",
              "    .colab-df-convert:hover {\n",
              "      background-color: #E2EBFA;\n",
              "      box-shadow: 0px 1px 2px rgba(60, 64, 67, 0.3), 0px 1px 3px 1px rgba(60, 64, 67, 0.15);\n",
              "      fill: #174EA6;\n",
              "    }\n",
              "\n",
              "    [theme=dark] .colab-df-convert {\n",
              "      background-color: #3B4455;\n",
              "      fill: #D2E3FC;\n",
              "    }\n",
              "\n",
              "    [theme=dark] .colab-df-convert:hover {\n",
              "      background-color: #434B5C;\n",
              "      box-shadow: 0px 1px 3px 1px rgba(0, 0, 0, 0.15);\n",
              "      filter: drop-shadow(0px 1px 2px rgba(0, 0, 0, 0.3));\n",
              "      fill: #FFFFFF;\n",
              "    }\n",
              "  </style>\n",
              "\n",
              "      <script>\n",
              "        const buttonEl =\n",
              "          document.querySelector('#df-263efc00-c93c-4332-827e-a9dafc24bc02 button.colab-df-convert');\n",
              "        buttonEl.style.display =\n",
              "          google.colab.kernel.accessAllowed ? 'block' : 'none';\n",
              "\n",
              "        async function convertToInteractive(key) {\n",
              "          const element = document.querySelector('#df-263efc00-c93c-4332-827e-a9dafc24bc02');\n",
              "          const dataTable =\n",
              "            await google.colab.kernel.invokeFunction('convertToInteractive',\n",
              "                                                     [key], {});\n",
              "          if (!dataTable) return;\n",
              "\n",
              "          const docLinkHtml = 'Like what you see? Visit the ' +\n",
              "            '<a target=\"_blank\" href=https://colab.research.google.com/notebooks/data_table.ipynb>data table notebook</a>'\n",
              "            + ' to learn more about interactive tables.';\n",
              "          element.innerHTML = '';\n",
              "          dataTable['output_type'] = 'display_data';\n",
              "          await google.colab.output.renderOutput(dataTable, element);\n",
              "          const docLink = document.createElement('div');\n",
              "          docLink.innerHTML = docLinkHtml;\n",
              "          element.appendChild(docLink);\n",
              "        }\n",
              "      </script>\n",
              "    </div>\n",
              "  </div>\n",
              "  "
            ]
          },
          "metadata": {},
          "execution_count": 52
        }
      ]
    },
    {
      "cell_type": "code",
      "source": [
        "#adding a variable named 'is_quarter_end' which will show price changes\n",
        "\n",
        "stock['is_quarter_end'] = np.where(stock['month']%3==0,1,0)\n",
        "stock.head()"
      ],
      "metadata": {
        "colab": {
          "base_uri": "https://localhost:8080/",
          "height": 206
        },
        "id": "mdrk6zCYYkSo",
        "outputId": "546592e5-5bf1-4759-8ee4-a28228bb9535"
      },
      "execution_count": null,
      "outputs": [
        {
          "output_type": "execute_result",
          "data": {
            "text/plain": [
              "         Date   Open   High    Low  Close  Adj Close    Volume  day  month  \\\n",
              "0  2010-06-29  3.800  5.000  3.508  4.778      4.778  93831500   29      6   \n",
              "1  2010-06-30  5.158  6.084  4.660  4.766      4.766  85935500   30      6   \n",
              "2  2010-07-01  5.000  5.184  4.054  4.392      4.392  41094000    1      7   \n",
              "3  2010-07-02  4.600  4.620  3.742  3.840      3.840  25699000    2      7   \n",
              "4  2010-07-06  4.000  4.000  3.166  3.222      3.222  34334500    6      7   \n",
              "\n",
              "   year  is_quarter_end  \n",
              "0  2010               1  \n",
              "1  2010               1  \n",
              "2  2010               0  \n",
              "3  2010               0  \n",
              "4  2010               0  "
            ],
            "text/html": [
              "\n",
              "  <div id=\"df-05f106ae-dbd4-4b45-bfb7-1d551f8df939\">\n",
              "    <div class=\"colab-df-container\">\n",
              "      <div>\n",
              "<style scoped>\n",
              "    .dataframe tbody tr th:only-of-type {\n",
              "        vertical-align: middle;\n",
              "    }\n",
              "\n",
              "    .dataframe tbody tr th {\n",
              "        vertical-align: top;\n",
              "    }\n",
              "\n",
              "    .dataframe thead th {\n",
              "        text-align: right;\n",
              "    }\n",
              "</style>\n",
              "<table border=\"1\" class=\"dataframe\">\n",
              "  <thead>\n",
              "    <tr style=\"text-align: right;\">\n",
              "      <th></th>\n",
              "      <th>Date</th>\n",
              "      <th>Open</th>\n",
              "      <th>High</th>\n",
              "      <th>Low</th>\n",
              "      <th>Close</th>\n",
              "      <th>Adj Close</th>\n",
              "      <th>Volume</th>\n",
              "      <th>day</th>\n",
              "      <th>month</th>\n",
              "      <th>year</th>\n",
              "      <th>is_quarter_end</th>\n",
              "    </tr>\n",
              "  </thead>\n",
              "  <tbody>\n",
              "    <tr>\n",
              "      <th>0</th>\n",
              "      <td>2010-06-29</td>\n",
              "      <td>3.800</td>\n",
              "      <td>5.000</td>\n",
              "      <td>3.508</td>\n",
              "      <td>4.778</td>\n",
              "      <td>4.778</td>\n",
              "      <td>93831500</td>\n",
              "      <td>29</td>\n",
              "      <td>6</td>\n",
              "      <td>2010</td>\n",
              "      <td>1</td>\n",
              "    </tr>\n",
              "    <tr>\n",
              "      <th>1</th>\n",
              "      <td>2010-06-30</td>\n",
              "      <td>5.158</td>\n",
              "      <td>6.084</td>\n",
              "      <td>4.660</td>\n",
              "      <td>4.766</td>\n",
              "      <td>4.766</td>\n",
              "      <td>85935500</td>\n",
              "      <td>30</td>\n",
              "      <td>6</td>\n",
              "      <td>2010</td>\n",
              "      <td>1</td>\n",
              "    </tr>\n",
              "    <tr>\n",
              "      <th>2</th>\n",
              "      <td>2010-07-01</td>\n",
              "      <td>5.000</td>\n",
              "      <td>5.184</td>\n",
              "      <td>4.054</td>\n",
              "      <td>4.392</td>\n",
              "      <td>4.392</td>\n",
              "      <td>41094000</td>\n",
              "      <td>1</td>\n",
              "      <td>7</td>\n",
              "      <td>2010</td>\n",
              "      <td>0</td>\n",
              "    </tr>\n",
              "    <tr>\n",
              "      <th>3</th>\n",
              "      <td>2010-07-02</td>\n",
              "      <td>4.600</td>\n",
              "      <td>4.620</td>\n",
              "      <td>3.742</td>\n",
              "      <td>3.840</td>\n",
              "      <td>3.840</td>\n",
              "      <td>25699000</td>\n",
              "      <td>2</td>\n",
              "      <td>7</td>\n",
              "      <td>2010</td>\n",
              "      <td>0</td>\n",
              "    </tr>\n",
              "    <tr>\n",
              "      <th>4</th>\n",
              "      <td>2010-07-06</td>\n",
              "      <td>4.000</td>\n",
              "      <td>4.000</td>\n",
              "      <td>3.166</td>\n",
              "      <td>3.222</td>\n",
              "      <td>3.222</td>\n",
              "      <td>34334500</td>\n",
              "      <td>6</td>\n",
              "      <td>7</td>\n",
              "      <td>2010</td>\n",
              "      <td>0</td>\n",
              "    </tr>\n",
              "  </tbody>\n",
              "</table>\n",
              "</div>\n",
              "      <button class=\"colab-df-convert\" onclick=\"convertToInteractive('df-05f106ae-dbd4-4b45-bfb7-1d551f8df939')\"\n",
              "              title=\"Convert this dataframe to an interactive table.\"\n",
              "              style=\"display:none;\">\n",
              "        \n",
              "  <svg xmlns=\"http://www.w3.org/2000/svg\" height=\"24px\"viewBox=\"0 0 24 24\"\n",
              "       width=\"24px\">\n",
              "    <path d=\"M0 0h24v24H0V0z\" fill=\"none\"/>\n",
              "    <path d=\"M18.56 5.44l.94 2.06.94-2.06 2.06-.94-2.06-.94-.94-2.06-.94 2.06-2.06.94zm-11 1L8.5 8.5l.94-2.06 2.06-.94-2.06-.94L8.5 2.5l-.94 2.06-2.06.94zm10 10l.94 2.06.94-2.06 2.06-.94-2.06-.94-.94-2.06-.94 2.06-2.06.94z\"/><path d=\"M17.41 7.96l-1.37-1.37c-.4-.4-.92-.59-1.43-.59-.52 0-1.04.2-1.43.59L10.3 9.45l-7.72 7.72c-.78.78-.78 2.05 0 2.83L4 21.41c.39.39.9.59 1.41.59.51 0 1.02-.2 1.41-.59l7.78-7.78 2.81-2.81c.8-.78.8-2.07 0-2.86zM5.41 20L4 18.59l7.72-7.72 1.47 1.35L5.41 20z\"/>\n",
              "  </svg>\n",
              "      </button>\n",
              "      \n",
              "  <style>\n",
              "    .colab-df-container {\n",
              "      display:flex;\n",
              "      flex-wrap:wrap;\n",
              "      gap: 12px;\n",
              "    }\n",
              "\n",
              "    .colab-df-convert {\n",
              "      background-color: #E8F0FE;\n",
              "      border: none;\n",
              "      border-radius: 50%;\n",
              "      cursor: pointer;\n",
              "      display: none;\n",
              "      fill: #1967D2;\n",
              "      height: 32px;\n",
              "      padding: 0 0 0 0;\n",
              "      width: 32px;\n",
              "    }\n",
              "\n",
              "    .colab-df-convert:hover {\n",
              "      background-color: #E2EBFA;\n",
              "      box-shadow: 0px 1px 2px rgba(60, 64, 67, 0.3), 0px 1px 3px 1px rgba(60, 64, 67, 0.15);\n",
              "      fill: #174EA6;\n",
              "    }\n",
              "\n",
              "    [theme=dark] .colab-df-convert {\n",
              "      background-color: #3B4455;\n",
              "      fill: #D2E3FC;\n",
              "    }\n",
              "\n",
              "    [theme=dark] .colab-df-convert:hover {\n",
              "      background-color: #434B5C;\n",
              "      box-shadow: 0px 1px 3px 1px rgba(0, 0, 0, 0.15);\n",
              "      filter: drop-shadow(0px 1px 2px rgba(0, 0, 0, 0.3));\n",
              "      fill: #FFFFFF;\n",
              "    }\n",
              "  </style>\n",
              "\n",
              "      <script>\n",
              "        const buttonEl =\n",
              "          document.querySelector('#df-05f106ae-dbd4-4b45-bfb7-1d551f8df939 button.colab-df-convert');\n",
              "        buttonEl.style.display =\n",
              "          google.colab.kernel.accessAllowed ? 'block' : 'none';\n",
              "\n",
              "        async function convertToInteractive(key) {\n",
              "          const element = document.querySelector('#df-05f106ae-dbd4-4b45-bfb7-1d551f8df939');\n",
              "          const dataTable =\n",
              "            await google.colab.kernel.invokeFunction('convertToInteractive',\n",
              "                                                     [key], {});\n",
              "          if (!dataTable) return;\n",
              "\n",
              "          const docLinkHtml = 'Like what you see? Visit the ' +\n",
              "            '<a target=\"_blank\" href=https://colab.research.google.com/notebooks/data_table.ipynb>data table notebook</a>'\n",
              "            + ' to learn more about interactive tables.';\n",
              "          element.innerHTML = '';\n",
              "          dataTable['output_type'] = 'display_data';\n",
              "          await google.colab.output.renderOutput(dataTable, element);\n",
              "          const docLink = document.createElement('div');\n",
              "          docLink.innerHTML = docLinkHtml;\n",
              "          element.appendChild(docLink);\n",
              "        }\n",
              "      </script>\n",
              "    </div>\n",
              "  </div>\n",
              "  "
            ]
          },
          "metadata": {},
          "execution_count": 53
        }
      ]
    },
    {
      "cell_type": "code",
      "source": [
        "\n",
        "data_grouped = stock.groupby('year').mean()\n",
        "plt.subplots(figsize=(20,10))\n",
        " \n",
        "for i, col in enumerate(['Open', 'High', 'Low', 'Close', 'Adj Close']):\n",
        "  plt.subplot(2,3,i+1)\n",
        "  data_grouped[col].plot.bar()\n",
        "plt.show()"
      ],
      "metadata": {
        "colab": {
          "base_uri": "https://localhost:8080/",
          "height": 676
        },
        "id": "L3S_9YACYnAp",
        "outputId": "3e525a96-1e0a-4be8-a301-ff317e1c79af"
      },
      "execution_count": null,
      "outputs": [
        {
          "output_type": "stream",
          "name": "stderr",
          "text": [
            "<ipython-input-54-a2ed7ca8f483>:5: MatplotlibDeprecationWarning: Auto-removal of overlapping axes is deprecated since 3.6 and will be removed two minor releases later; explicitly call ax.remove() as needed.\n",
            "  plt.subplot(2,3,i+1)\n"
          ]
        },
        {
          "output_type": "display_data",
          "data": {
            "text/plain": [
              "<Figure size 1440x720 with 5 Axes>"
            ],
            "image/png": "[encoded data removed]"
          },
          "metadata": {
            "needs_background": "light"
          }
        }
      ]
    },
    {
      "cell_type": "code",
      "source": [
        "\n",
        "stock.groupby('is_quarter_end').mean()"
      ],
      "metadata": {
        "colab": {
          "base_uri": "https://localhost:8080/",
          "height": 143
        },
        "id": "hu0reZCKYozt",
        "outputId": "e0bbf344-1920-46bc-d115-a0b06081c391"
      },
      "execution_count": null,
      "outputs": [
        {
          "output_type": "execute_result",
          "data": {
            "text/plain": [
              "                      Open        High         Low       Close   Adj Close  \\\n",
              "is_quarter_end                                                               \n",
              "0               136.474690  139.523037  133.361644  136.531872  136.531872   \n",
              "1               143.073168  146.216652  139.506757  143.171146  143.171146   \n",
              "\n",
              "                      Volume        day     month         year  \n",
              "is_quarter_end                                                  \n",
              "0               3.194378e+07  15.701987  6.124300  2015.855833  \n",
              "1               3.007048e+07  15.736153  7.489426  2015.852971  "
            ],
            "text/html": [
              "\n",
              "  <div id=\"df-e10b98fa-02b8-4eca-a7a1-2c4633062867\">\n",
              "    <div class=\"colab-df-container\">\n",
              "      <div>\n",
              "<style scoped>\n",
              "    .dataframe tbody tr th:only-of-type {\n",
              "        vertical-align: middle;\n",
              "    }\n",
              "\n",
              "    .dataframe tbody tr th {\n",
              "        vertical-align: top;\n",
              "    }\n",
              "\n",
              "    .dataframe thead th {\n",
              "        text-align: right;\n",
              "    }\n",
              "</style>\n",
              "<table border=\"1\" class=\"dataframe\">\n",
              "  <thead>\n",
              "    <tr style=\"text-align: right;\">\n",
              "      <th></th>\n",
              "      <th>Open</th>\n",
              "      <th>High</th>\n",
              "      <th>Low</th>\n",
              "      <th>Close</th>\n",
              "      <th>Adj Close</th>\n",
              "      <th>Volume</th>\n",
              "      <th>day</th>\n",
              "      <th>month</th>\n",
              "      <th>year</th>\n",
              "    </tr>\n",
              "    <tr>\n",
              "      <th>is_quarter_end</th>\n",
              "      <th></th>\n",
              "      <th></th>\n",
              "      <th></th>\n",
              "      <th></th>\n",
              "      <th></th>\n",
              "      <th></th>\n",
              "      <th></th>\n",
              "      <th></th>\n",
              "      <th></th>\n",
              "    </tr>\n",
              "  </thead>\n",
              "  <tbody>\n",
              "    <tr>\n",
              "      <th>0</th>\n",
              "      <td>136.474690</td>\n",
              "      <td>139.523037</td>\n",
              "      <td>133.361644</td>\n",
              "      <td>136.531872</td>\n",
              "      <td>136.531872</td>\n",
              "      <td>3.194378e+07</td>\n",
              "      <td>15.701987</td>\n",
              "      <td>6.124300</td>\n",
              "      <td>2015.855833</td>\n",
              "    </tr>\n",
              "    <tr>\n",
              "      <th>1</th>\n",
              "      <td>143.073168</td>\n",
              "      <td>146.216652</td>\n",
              "      <td>139.506757</td>\n",
              "      <td>143.171146</td>\n",
              "      <td>143.171146</td>\n",
              "      <td>3.007048e+07</td>\n",
              "      <td>15.736153</td>\n",
              "      <td>7.489426</td>\n",
              "      <td>2015.852971</td>\n",
              "    </tr>\n",
              "  </tbody>\n",
              "</table>\n",
              "</div>\n",
              "      <button class=\"colab-df-convert\" onclick=\"convertToInteractive('df-e10b98fa-02b8-4eca-a7a1-2c4633062867')\"\n",
              "              title=\"Convert this dataframe to an interactive table.\"\n",
              "              style=\"display:none;\">\n",
              "        \n",
              "  <svg xmlns=\"http://www.w3.org/2000/svg\" height=\"24px\"viewBox=\"0 0 24 24\"\n",
              "       width=\"24px\">\n",
              "    <path d=\"M0 0h24v24H0V0z\" fill=\"none\"/>\n",
              "    <path d=\"M18.56 5.44l.94 2.06.94-2.06 2.06-.94-2.06-.94-.94-2.06-.94 2.06-2.06.94zm-11 1L8.5 8.5l.94-2.06 2.06-.94-2.06-.94L8.5 2.5l-.94 2.06-2.06.94zm10 10l.94 2.06.94-2.06 2.06-.94-2.06-.94-.94-2.06-.94 2.06-2.06.94z\"/><path d=\"M17.41 7.96l-1.37-1.37c-.4-.4-.92-.59-1.43-.59-.52 0-1.04.2-1.43.59L10.3 9.45l-7.72 7.72c-.78.78-.78 2.05 0 2.83L4 21.41c.39.39.9.59 1.41.59.51 0 1.02-.2 1.41-.59l7.78-7.78 2.81-2.81c.8-.78.8-2.07 0-2.86zM5.41 20L4 18.59l7.72-7.72 1.47 1.35L5.41 20z\"/>\n",
              "  </svg>\n",
              "      </button>\n",
              "      \n",
              "  <style>\n",
              "    .colab-df-container {\n",
              "      display:flex;\n",
              "      flex-wrap:wrap;\n",
              "      gap: 12px;\n",
              "    }\n",
              "\n",
              "    .colab-df-convert {\n",
              "      background-color: #E8F0FE;\n",
              "      border: none;\n",
              "      border-radius: 50%;\n",
              "      cursor: pointer;\n",
              "      display: none;\n",
              "      fill: #1967D2;\n",
              "      height: 32px;\n",
              "      padding: 0 0 0 0;\n",
              "      width: 32px;\n",
              "    }\n",
              "\n",
              "    .colab-df-convert:hover {\n",
              "      background-color: #E2EBFA;\n",
              "      box-shadow: 0px 1px 2px rgba(60, 64, 67, 0.3), 0px 1px 3px 1px rgba(60, 64, 67, 0.15);\n",
              "      fill: #174EA6;\n",
              "    }\n",
              "\n",
              "    [theme=dark] .colab-df-convert {\n",
              "      background-color: #3B4455;\n",
              "      fill: #D2E3FC;\n",
              "    }\n",
              "\n",
              "    [theme=dark] .colab-df-convert:hover {\n",
              "      background-color: #434B5C;\n",
              "      box-shadow: 0px 1px 3px 1px rgba(0, 0, 0, 0.15);\n",
              "      filter: drop-shadow(0px 1px 2px rgba(0, 0, 0, 0.3));\n",
              "      fill: #FFFFFF;\n",
              "    }\n",
              "  </style>\n",
              "\n",
              "      <script>\n",
              "        const buttonEl =\n",
              "          document.querySelector('#df-e10b98fa-02b8-4eca-a7a1-2c4633062867 button.colab-df-convert');\n",
              "        buttonEl.style.display =\n",
              "          google.colab.kernel.accessAllowed ? 'block' : 'none';\n",
              "\n",
              "        async function convertToInteractive(key) {\n",
              "          const element = document.querySelector('#df-e10b98fa-02b8-4eca-a7a1-2c4633062867');\n",
              "          const dataTable =\n",
              "            await google.colab.kernel.invokeFunction('convertToInteractive',\n",
              "                                                     [key], {});\n",
              "          if (!dataTable) return;\n",
              "\n",
              "          const docLinkHtml = 'Like what you see? Visit the ' +\n",
              "            '<a target=\"_blank\" href=https://colab.research.google.com/notebooks/data_table.ipynb>data table notebook</a>'\n",
              "            + ' to learn more about interactive tables.';\n",
              "          element.innerHTML = '';\n",
              "          dataTable['output_type'] = 'display_data';\n",
              "          await google.colab.output.renderOutput(dataTable, element);\n",
              "          const docLink = document.createElement('div');\n",
              "          docLink.innerHTML = docLinkHtml;\n",
              "          element.appendChild(docLink);\n",
              "        }\n",
              "      </script>\n",
              "    </div>\n",
              "  </div>\n",
              "  "
            ]
          },
          "metadata": {},
          "execution_count": 55
        }
      ]
    },
    {
      "cell_type": "code",
      "source": [
        "#Training and testing \n",
        "from sklearn.model_selection import train_test_split\n",
        "from sklearn.linear_model import LinearRegression\n",
        "from sklearn import svm\n",
        "from sklearn import metrics\n",
        "from sklearn.preprocessing import StandardScaler"
      ],
      "metadata": {
        "id": "n8wIe-_BYpSS"
      },
      "execution_count": null,
      "outputs": []
    },
    {
      "cell_type": "code",
      "source": [
        "X = stock[[\"Open\", \"High\", \"Low\", \"Close\", \"Volume\", \"is_quarter_end\"]]\n",
        "y = stock[\"Adj Close\"]\n",
        "\n",
        "X_train, X_test, y_train, y_test = train_test_split(X,y, test_size=0.2, random_state=0)"
      ],
      "metadata": {
        "id": "7cgQp6bOYstf"
      },
      "execution_count": null,
      "outputs": []
    },
    {
      "cell_type": "code",
      "source": [
        "scale = StandardScaler()\n",
        "X_train = scale.fit_transform(X_train)\n",
        "X_test = scale.transform(X_test)"
      ],
      "metadata": {
        "id": "JUtSRbB4YwDI"
      },
      "execution_count": null,
      "outputs": []
    },
    {
      "cell_type": "code",
      "source": [
        "#Linear regression\n",
        "lr_model=LinearRegression()\n",
        "\n",
        "lr_model.fit(X_train,y_train)\n",
        "\n",
        "lr_predict = lr_model.predict(X_test)\n",
        "\n",
        "print(lr_predict)"
      ],
      "metadata": {
        "colab": {
          "base_uri": "https://localhost:8080/"
        },
        "id": "A4nOjOYPYx6a",
        "outputId": "d19572c4-4dba-44c5-9d41-ddc81ebf2793"
      },
      "execution_count": null,
      "outputs": [
        {
          "output_type": "stream",
          "name": "stdout",
          "text": [
            "[  71.463997    6.876       5.92        5.622      50.638      45.27\n",
            "   11.158      50.293999  113.912003   40.551998    5.606       4.824\n",
            "   43.939999    3.58       85.528      62.327999   33.756001   51.402\n",
            "  870.109985   60.754002    5.746      46.285999  835.429993    4.996\n",
            "    6.276       4.642      65.625999   68.400002   50.310001    3.988\n",
            "    6.626      35.422001   27.6        41.490002   47.698002   46.194\n",
            "   45.816002 1096.380005   43.029999  380.359985    7.094      67.463997\n",
            "   55.001999    5.17        6.45      299.411987    5.522      71.066002\n",
            "   46.464001   39.646      40.976002    6.93       41.571999   39.321999\n",
            "   60.501999  809.869995    6.52      441.76001    48.386002   59.492001\n",
            "  438.089996   63.532001   63.562      46.220001   35.799999    6.298\n",
            "   46.796001   29.598      55.723999  838.299988   52.431999   46.321999\n",
            "  447.75       45.414001  756.98999    56.945999 1137.060059   42.256001\n",
            "   86.188004   49.695999   49.984001    5.298     699.099976  630.849976\n",
            "    6.736     422.640015  610.119995   44.922001   42.037998   39.925999\n",
            "  156.516006    4.8        38.599998   61.740002  996.27002     7.056\n",
            "   50.216       5.99        6.762     704.73999    42.312      63.702\n",
            " 1084.599976   46.327999   34.001999   46.012001    7.222    1162.939941\n",
            "    5.582      45.411999  667.929993  653.380005    7.548    1144.76001\n",
            "    6.204     791.359985    4.868     717.169983   62.5         4.918\n",
            "   48.518002    5.706      43.924      60.071999   43.888      71.136002\n",
            "  303.359985   62.972       3.756       8.786      59.703999   60.554001\n",
            "   10.988      62.043999   59.408001   39.925999   57.891998  300.127991\n",
            "   43.720001    5.982      39.740002    5.382      49.68       55.085999\n",
            "   69.050003   52.632       6.698       4.184       4.942     744.48999\n",
            "   65.234001    6.78       39.970001    5.244       5.484       6.322\n",
            "   63.362      49.812       5.866       7.626      51.200001   45.209999\n",
            "  816.119995  736.27002     5.442      60.015999   47.001999    5.9\n",
            "   44.612       7.202      60.049999    6.322      29.4        49.234001\n",
            "   42.018002   42.402      44.498001   41.459999   65.417999  419.070007\n",
            "  163.884003   63.976002   53.652      59.754002   41.689999  563.460022\n",
            "  400.365997   33.354      53.540001    6.164     145.029999   26.924\n",
            "   37.486      48.040001    3.968      70.862       8.75      407.\n",
            "  102.697998  109.323997  839.289978   45.231998   49.389999    5.654\n",
            "   39.702       5.27       50.501999    7.        571.690002   70.966003\n",
            "    4.086      72.473999   53.897999   38.012001    4.044      29.143999\n",
            "  672.369995    5.856      47.167999  409.996002    4.816       4.592\n",
            "   69.767998  630.27002     5.22       27.52       96.267998   46.150002\n",
            "  425.790009   19.546       5.658      73.043999    5.896       7.69\n",
            "  620.830017  685.700012   53.23        5.664      40.987999  121.599998\n",
            "   50.922001    7.396       5.364     804.580017    4.59      876.349976\n",
            "   41.310001   17.559999   73.246002   45.916       6.758      37.004002\n",
            "    6.132      51.577999   61.144001  863.419983   43.051998   46.868\n",
            "   50.992001   39.301998   63.001999   39.313999   39.472      52.782001\n",
            "   40.208      13.88        6.018      47.116001   37.731998   47.473999\n",
            " 1077.040039   48.737999    5.468     766.369995   49.889999  826.159973\n",
            "    5.962      27.559999  372.720001  201.869995  198.179993   53.256001\n",
            "    5.332       6.882      76.522003    3.628     641.76001   424.679993\n",
            "  109.089996  854.690002   44.714001   51.198002    4.092    1013.390015\n",
            "   41.043999   53.757999   48.945999   63.402     742.02002   145.966003\n",
            "  413.980011    6.234      41.456001  418.320007    5.762       5.974\n",
            "   53.417999    5.448       5.86       20.298      43.625999  656.950012\n",
            "   38.175999   63.046001   45.778      37.754002    4.722       5.484\n",
            "    4.802      43.386002   43.849998   17.988001    5.344       6.016\n",
            "   16.648001  149.042007   40.875999   43.652     160.102005   67.528\n",
            "    6.026      63.854     730.909973   48.228001 1199.780029    6.338\n",
            "  755.830017   58.818001  694.400024  739.780029  905.659973  299.821991\n",
            " 1031.560059  738.200012   46.605999   69.178001   48.007999   65.648003\n",
            "   64.015999   55.84        5.3        30.086      39.098      50.588001\n",
            "   30.282     629.039978    7.052      51.352001   30.488001    6.718\n",
            "   40.619999    6.21        5.764      89.014      30.492001    4.224\n",
            "  687.200012   61.779999   71.382004   54.245998   44.742001   43.922001\n",
            "  840.22998    48.174     639.830017   48.562      44.646      49.245998\n",
            "   47.438       5.468      43.807999   48.124001   48.958      54.462002\n",
            "    4.732      36.903999  161.882004   44.138      27.954       7.03\n",
            "  577.869995   43.952       5.934     111.603996   31.1         3.98\n",
            "    4.926      31.844      19.416       5.116      44.52      843.030029\n",
            "    6.448      50.112      48.625999  388.040009    5.9         6.788\n",
            "   46.001999   70.554001   49.428001    7.538     160.005997   40.02\n",
            "   44.523998    6.52       52.416       9.09       61.507999   48.396\n",
            "    5.484       4.788       4.108      33.924      66.973999   70.362\n",
            "   40.756001    4.46       45.917999    6.706      44.136002  295.298004\n",
            "   43.709999   49.798      36.299999   47.119999  718.429993   48.948002\n",
            "   28.733999  821.530029   70.122002   43.862     153.824005   69.907997\n",
            "  923.390015   56.004002   46.389999  791.940002    7.324      60.639999\n",
            "   48.905998    5.392      40.200001  623.710022   62.372002   69.491997\n",
            "    5.932      39.82       29.916      60.212002   50.282001    6.644\n",
            "  205.009995    7.502     864.27002    62.757999   59.82       52.062\n",
            "   39.737999    5.738      32.900002   65.316002   41.546001  300.167999\n",
            "    3.896      69.281998    5.832       5.752       6.75        5.72\n",
            "   46.542      41.776001   24.454      60.23      856.97998    67.014\n",
            "   37.740002    6.54       56.422001   46.354       6.474      68.012001\n",
            "   75.019997   56.908001    4.39       32.703999    5.844      61.222\n",
            "   85.505997  274.31601     5.582      54.026001   61.504002   53.358002\n",
            "    6.622      44.306    1222.089966    5.788      45.001999  623.900024\n",
            "  161.602005   45.172001    4.06      995.650024  683.799988   58.034\n",
            "    5.532      28.32        5.56      656.570007   64.681999   42.740002\n",
            "   52.953999   49.124001   59.091999  713.76001    48.962002   53.335999\n",
            "    7.058       6.632      69.199997    6.614      20.440001  308.929993\n",
            "    6.176      44.262001    4.806      50.014       5.71       62.172001\n",
            "    7.33      907.340027   58.226002    6.08       66.991997    5.508\n",
            "   59.784      43.854       4.944       6.34       61.040001   26.348\n",
            "    6.834       5.348      58.242001   38.386002 1109.030029   63.537998\n",
            "   30.695999   51.992001   61.001999   51.042      58.362       5.69\n",
            "    4.396      43.905998  752.919983   36.712002  177.412003   40.703999\n",
            "   63.444     676.880005   46.091999  649.880005   51.998001   71.697998\n",
            "    5.6        52.771999    5.89       20.059999   40.344002   45.402\n",
            "    7.03       10.91       55.57        6.78        6.47      415.089996\n",
            "   43.299999   37.518002  420.279999   96.311996]\n"
          ]
        }
      ]
    },
    {
      "cell_type": "code",
      "source": [
        "print(\"Mean Absolute Error:\", round(metrics.mean_absolute_error(y_test, lr_predict), 4))\n",
        "print(\"Mean Squared Error:\", round(metrics.mean_squared_error(y_test, lr_predict), 4))\n",
        "print(\"Root Mean Squared Error:\", round(np.sqrt(metrics.mean_squared_error(y_test, lr_predict)), 4))\n",
        "print(\"(R^2) Score:\", round(metrics.r2_score(y_test, lr_predict), 4))\n",
        "print(f'Train Score : {lr_model.score(X_train, y_train) * 100:.2f}% and Test Score : {lr_model.score(X_test, y_test) * 100:.2f}% using Linear Regression.')\n",
        "errors = abs(lr_predict - y_test)\n",
        "mape = 100 * (errors / y_test)\n",
        "accuracy = 100 - np.mean(mape)\n",
        "print('Accuracy:', round(accuracy, 2), '%.') "
      ],
      "metadata": {
        "colab": {
          "base_uri": "https://localhost:8080/"
        },
        "id": "cs5WBRh4Yz8N",
        "outputId": "47e31433-279c-48dd-c1d5-c4d61a741cdf"
      },
      "execution_count": null,
      "outputs": [
        {
          "output_type": "stream",
          "name": "stdout",
          "text": [
            "Mean Absolute Error: 0.0\n",
            "Mean Squared Error: 0.0\n",
            "Root Mean Squared Error: 0.0\n",
            "(R^2) Score: 1.0\n",
            "Train Score : 100.00% and Test Score : 100.00% using Linear Regression.\n",
            "Accuracy: 100.0 %.\n"
          ]
        }
      ]
    },
    {
      "cell_type": "code",
      "source": [
        "#SVM \n",
        "regr = svm.SVR(kernel='linear')\n",
        "regr.fit(X_train, y_train)\n",
        "svm_predict = regr.predict(X_test)\n",
        "print(svm_predict)"
      ],
      "metadata": {
        "colab": {
          "base_uri": "https://localhost:8080/"
        },
        "id": "yFLqlXPQY2ge",
        "outputId": "0433ca69-7bb2-4a18-c6db-60caa191cff9"
      },
      "execution_count": null,
      "outputs": [
        {
          "output_type": "stream",
          "name": "stdout",
          "text": [
            "[  72.99799804    6.87352398    5.83278333    5.58002167   50.41350975\n",
            "   44.83525831   11.37063606   50.41236075  114.81161496   40.41783989\n",
            "    5.54863968    4.92582861   44.04134376    3.65955953   81.28251019\n",
            "   62.73251879   33.99487997   51.91013804  862.85437089   60.75417904\n",
            "    5.74444336   46.3152959   826.57463217    4.93275848    6.3288788\n",
            "    4.71722934   63.06643736   67.43178439   50.03278699    4.00463825\n",
            "    6.61607388   35.94955568   27.28512741   41.46046947   47.74920137\n",
            "   46.52975702   45.72273904 1096.44261395   42.77309383  391.67745266\n",
            "    7.05951874   67.11128139   56.07605737    5.20573163    6.51757272\n",
            "  318.85811946    5.61021204   70.99535516   46.95189841   39.77651672\n",
            "   40.65035523    6.93326013   41.70851396   39.68656807   60.87812029\n",
            "  804.94688221    6.54082853  443.54668603   48.07502563   59.18302843\n",
            "  433.00092941   63.89370344   62.87512959   46.58543833   35.03954202\n",
            "    6.30340656   46.84930924   30.33589855   55.5747713   837.48255602\n",
            "   52.1485582    46.09772143  443.36879968   45.1979621   754.04970037\n",
            "   57.23869816 1118.55457968   42.01584674   85.97512563   49.24912404\n",
            "   50.26510955    5.31418363  705.16689433  625.00938551    6.80820063\n",
            "  424.68324223  607.86269459   43.38802321   41.55851634   39.79997802\n",
            "  155.56139004    4.8454026    38.49535355   62.27551616 1008.94273512\n",
            "    6.98801468   49.49170844    5.91379819    6.76435206  711.40955423\n",
            "   42.12745653   62.94329945 1086.9056401    47.10286212   34.09918191\n",
            "   45.89538269    7.20716668 1160.72094824    5.5018428    45.53999919\n",
            "  657.83546309  662.51360694    7.60361895 1143.22921081    6.11691499\n",
            "  783.87351601    4.84669028  720.58929719   62.78188088    5.04591885\n",
            "   48.71762828    5.81598479   44.83908022   60.63587716   43.37560112\n",
            "   71.07486192  304.13668631   62.75880265    3.72043134    8.81958133\n",
            "   58.63215866   60.14955087   10.69601412   61.70388366   59.02182837\n",
            "   39.54101352   57.88634603  298.95171511   43.7839693     5.89289498\n",
            "   39.53789898    5.41513919   49.7027804    55.79358403   69.34130567\n",
            "   51.96422272    6.65085272    4.14397462    4.89877649  744.25446864\n",
            "   65.35076322    6.78429206   40.29899108    5.30914217    5.51937482\n",
            "    6.2880159    62.88838844   49.7935016     5.81390577    7.6290205\n",
            "   51.14786647   45.6718304   805.56393259  746.47896366    5.48175713\n",
            "   59.14652436   47.17956101    5.95975167   44.41416635    7.22329555\n",
            "   59.93774569    6.35865733   29.6129814    49.02781521   42.26451891\n",
            "   42.20570109   44.36011337   41.14305685   67.20544377  418.76909211\n",
            "  161.5148037    63.52756218   53.41389108   59.84827659   42.31471451\n",
            "  557.72793309  388.55387243   33.78267209   53.81967609    6.20083871\n",
            "  143.41334346   26.4787705    36.60287199   48.10799914    3.82689002\n",
            "   70.12992691    8.77743805  411.69715866  100.99184343  111.97352729\n",
            "  856.38284895   45.46464712   49.94304933    5.61792668   39.63884755\n",
            "    5.22766168   50.6406585     7.04159126  582.71672891   71.21247827\n",
            "    4.09749027   73.67595569   54.47507111   37.70809253    4.06421764\n",
            "   29.26190468  672.09197284    5.8347248    47.53758502  410.71748895\n",
            "    4.69372934    4.57454027   69.04320831  646.46322161    5.26222737\n",
            "   27.58951004   97.42201518   46.04418449  433.19659502   19.5689885\n",
            "    5.68252586   72.53168032    5.80029243    7.69430705  620.89841548\n",
            "  675.39748733   53.38553368    5.71802491   40.95146079  124.02637707\n",
            "   50.51449756    7.42028437    5.42758679  829.21110457    4.49204422\n",
            "  892.85813192   40.9550255    16.98703053   72.89001286   45.22104407\n",
            "    6.65117497   37.62363997    6.02963223   51.50263715   59.73764543\n",
            "  865.66575067   42.67252045   46.60737628   51.42883208   39.70158338\n",
            "   62.88594567   38.79855079   39.6176318    53.30074635   40.06085347\n",
            "   14.07933087    6.15923998   47.32069473   37.25733344   47.42047181\n",
            " 1070.25614437   48.92092772    5.61416024  774.57229525   49.95129492\n",
            "  837.320181      5.9770964    28.15263359  373.73665648  197.24544328\n",
            "  191.58220381   52.6314078     5.44614079    6.7804907    76.00292858\n",
            "    3.57491639  626.39753662  424.64300092  109.41802234  864.01028108\n",
            "   44.75660828   51.97127691    4.1482038  1009.68238698   40.9751253\n",
            "   53.59646737   48.95774059   63.48106341  724.6611926   146.64892554\n",
            "  417.38547019    6.08241977   42.36331266  405.98194986    5.8508781\n",
            "    5.83945791   53.51755681    5.44127435    5.91061228   19.87416919\n",
            "   43.8681338   653.42730797   38.36189207   65.75113592   46.35070061\n",
            "   38.15963887    4.7085053     5.57599806    4.86984851   43.16491057\n",
            "   43.38219872   18.13190589    5.38977356    5.86257638   17.83547277\n",
            "  146.75897667   40.17473172   43.11696344  158.99662016   68.45233521\n",
            "    6.06772573   63.4841364   723.00768594   47.95258486 1173.62067573\n",
            "    6.20764357  749.34802113   57.81668627  697.78616728  735.91540959\n",
            "  911.9287478   300.96165526 1065.32251049  739.81501095   46.25941584\n",
            "   69.83190891   47.70745374   64.65582035   64.02073484   55.9170342\n",
            "    5.34443843   30.20055468   38.91206419   50.68574625   30.3454193\n",
            "  644.16559215    7.05220647   51.31393196   30.46304914    6.75557999\n",
            "   40.41925307    6.22219915    5.69435535   92.27976418   30.12802167\n",
            "    4.17984473  681.92342513   61.46184467   70.35902485   54.43132292\n",
            "   45.13737039   44.05944513  824.7924534    48.16746155  628.87757457\n",
            "   48.81942726   44.62700625   49.26014119   46.9180106     5.46577424\n",
            "   43.7483396    48.53597803   48.67320414   54.44603297    4.7186424\n",
            "   37.14173818  164.16163093   44.22784923   28.41409196    6.98531371\n",
            "  576.58529958   44.38974038    6.01273281  110.38692629   31.15315887\n",
            "    3.89021954    4.90198542   32.44535741   19.11047987    5.14350287\n",
            "   44.26594367  833.88299897    6.4902449    48.90262846   48.53605244\n",
            "  394.10241146    5.92776725    6.76640145   45.34391573   69.33101611\n",
            "   49.61955841    7.47114825  159.4350351    40.10051796   44.89542523\n",
            "    6.63392272   52.00397096    9.07994494   62.10419902   48.24796732\n",
            "    5.42041587    4.78579562    4.12563419   34.33026452   66.51797908\n",
            "   70.59028289   40.56457259    4.60507681   45.75675416    6.73771236\n",
            "   44.67855526  300.49873237   43.75807251   49.72789462   35.80274246\n",
            "   47.3379528   704.45993431   48.53637529   29.49487434  827.09444218\n",
            "   69.65599548   43.89993486  155.99448982   67.88830155  916.46853466\n",
            "   55.81361822   46.00098165  791.49103439    7.27807942   60.22055652\n",
            "   48.74227091    5.39752805   40.38545663  621.5624385    62.95417089\n",
            "   69.94418757    5.86526015   39.44289874   29.78636272   60.75500326\n",
            "   50.42542074    6.6267718   201.71804508    7.50776828  869.45204823\n",
            "   62.16143883   59.64092525   52.37152868   39.84305733    5.73199463\n",
            "   33.26795754   64.40577937   41.73790434  301.83571471    3.91123022\n",
            "   69.0576856     5.87624282    5.74332603    6.78570663    5.75599886\n",
            "   46.72608548   42.1284059    24.48645353   60.26486142  864.72335878\n",
            "   67.18075783   38.14259149    6.40960951   56.14464608   46.32402506\n",
            "    6.4257806    67.90199461   75.47900643   57.16300174    4.51551952\n",
            "   32.96164872    5.74697431   61.94201829   88.32032273  265.64563035\n",
            "    5.56923309   53.34206198   62.05043299   52.96588452    6.67368979\n",
            "   44.509414   1223.62407707    5.74369103   45.22019929  626.00650359\n",
            "  162.46275254   45.33887168    4.19198778 1018.36589406  680.69564469\n",
            "   58.35967439    5.66219181   27.79777723    5.52336984  645.08706532\n",
            "   65.19172662   42.52685653   53.74114661   48.90381345   59.97434635\n",
            "  711.95586526   49.48030229   53.08156695    7.17034819    6.6509108\n",
            "   67.3606542     6.61838178   20.58166702  294.90844839    6.18002822\n",
            "   43.71271409    4.92182804   50.85985073    5.65831477   64.01560474\n",
            "    7.26628291  918.8379224    58.57977462    6.17997987   65.71879097\n",
            "    5.54031777   60.32658064   44.23340958    4.91831568    6.32277255\n",
            "   61.0034193    26.62895046    6.82265179    5.27393197   58.85871337\n",
            "   38.49411117 1125.68384472   62.36773782   30.9768847    51.68454456\n",
            "   61.49191658   50.82480258   58.18916831    5.67652502    4.31703073\n",
            "   43.60006689  748.49199212   36.90418954  178.7958994    41.03306458\n",
            "   63.80341195  687.83183117   46.37418976  637.44311998   52.41881266\n",
            "   71.79764061    5.65091246   52.61351039    5.96404974   20.11836877\n",
            "   40.32916294   45.77904197    7.05574835   11.0905095    55.60589412\n",
            "    6.73250807    6.56241979  422.01839369   42.4694471    37.72013572\n",
            "  417.23115196   98.46275579]\n"
          ]
        }
      ]
    },
    {
      "cell_type": "code",
      "source": [
        "print(\"Mean Absolute Error:\", round(metrics.mean_absolute_error(y_test, svm_predict), 4))\n",
        "print(\"Mean Squared Error:\", round(metrics.mean_squared_error(y_test, svm_predict), 4))\n",
        "print(\"Root Mean Squared Error:\", round(np.sqrt(metrics.mean_squared_error(y_test, svm_predict)), 4))\n",
        "print(\"(R^2) Score:\", round(metrics.r2_score(y_test, svm_predict), 4))\n",
        "print(f'Train Score : {regr.score(X_train, y_train) * 100:.2f}% and Test Score : {regr.score(X_test, y_test) * 100:.2f}% using Support Vector Machine.')\n",
        "errors = abs(svm_predict - y_test)\n",
        "mape = 100 * (errors / y_test)\n",
        "accuracy = 100 - np.mean(mape)\n",
        "print('Accuracy:', round(accuracy, 2), '%.') "
      ],
      "metadata": {
        "colab": {
          "base_uri": "https://localhost:8080/"
        },
        "id": "oktR_BYsZBWU",
        "outputId": "d3e6d0a4-d343-4291-bebf-9046fc63e8ed"
      },
      "execution_count": null,
      "outputs": [
        {
          "output_type": "stream",
          "name": "stdout",
          "text": [
            "Mean Absolute Error: 1.5539\n",
            "Mean Squared Error: 16.7054\n",
            "Root Mean Squared Error: 4.0872\n",
            "(R^2) Score: 0.9998\n",
            "Train Score : 99.97% and Test Score : 99.98% using Support Vector Machine.\n",
            "Accuracy: 99.05 %.\n"
          ]
        }
      ]
    },
    {
      "cell_type": "code",
      "source": [
        "from sklearn import tree"
      ],
      "metadata": {
        "id": "LCGavxxOZDEf"
      },
      "execution_count": null,
      "outputs": []
    },
    {
      "cell_type": "code",
      "source": [
        "#DecisionTree\n",
        "clf = tree.DecisionTreeRegressor()\n",
        "clf = clf.fit(X_train, y_train)\n",
        "dt = clf.predict(X_test)\n",
        "print(dt)"
      ],
      "metadata": {
        "colab": {
          "base_uri": "https://localhost:8080/"
        },
        "id": "txAjNQ3AZEkj",
        "outputId": "1176a00e-cb37-42c0-ab42-79f9906b3b80"
      },
      "execution_count": null,
      "outputs": [
        {
          "output_type": "stream",
          "name": "stdout",
          "text": [
            "[  71.594002    6.88        5.914       5.628      50.599998   45.276001\n",
            "   10.798      50.284     116.197998   40.546001    5.61        4.814\n",
            "   43.948002    3.664      83.666      62.362      33.787998   51.400002\n",
            "  872.789978   60.740002    5.742      46.310001  839.809998    4.986\n",
            "    6.258       4.636      65.68       68.398003   50.313999    3.974\n",
            "    6.618      35.442001   27.472      41.5        47.726002   46.194\n",
            "   45.801998 1093.939941   43.042     377.417999    7.072      67.468002\n",
            "   55.248001    5.166       6.45      302.614014    5.528      71.080002\n",
            "   46.5        39.66       40.944       6.922      41.57       39.330002\n",
            "   60.512001  811.190002    6.516     442.149994   48.386002   59.486\n",
            "  434.         63.458      63.509998   46.256001   35.740002    6.298\n",
            "   46.801998   29.596001   55.490002  839.809998   52.41       46.358002\n",
            "  447.369995   45.424     753.640015   56.751999 1136.98999    42.268002\n",
            "   86.075996   49.695999   50.006001    5.288     699.599976  633.25\n",
            "    6.736     420.980011  609.890015   44.917999   42.048      39.911999\n",
            "  156.376007    4.802      38.613998   61.742001  966.409973    7.064\n",
            "   50.265999    5.988       6.762     705.669983   42.282001   63.773998\n",
            " 1088.469971   46.358002   33.986      46.006001    7.218    1156.869995\n",
            "    5.576      45.402     668.059998  653.200012    7.578    1136.98999\n",
            "    6.22      801.890015    4.872     722.25       62.52        4.926\n",
            "   48.512001    5.71       43.924      60.068001   43.891998   71.150002\n",
            "  302.614014   62.924       3.758       8.718      59.804001   60.556\n",
            "   10.822      61.916      59.436001   39.889999   57.992001  297.915985\n",
            "   43.716       5.978      39.82        5.398      49.695999   55.248001\n",
            "   69.019997   52.624001    6.688       4.17        4.948     739.380005\n",
            "   65.218002    6.774      39.993999    5.25        5.49        6.32\n",
            "   63.366001   49.82        5.87        7.66       51.141998   45.158001\n",
            "  818.320007  734.090027    5.446      59.984001   47.028       5.898\n",
            "   44.608002    7.316      60.068001    6.332      29.530001   49.183998\n",
            "   42.018002   42.473999   44.568001   41.456001   65.325996  421.200012\n",
            "  164.046005   63.953999   53.790001   59.740002   41.692001  555.380005\n",
            "  400.51001    33.316002   53.554001    6.132     141.977997   26.856001\n",
            "   37.484001   48.048       3.978      70.862       8.868     410.359985\n",
            "  102.872002  126.846001  838.289978   45.158001   49.397999    5.656\n",
            "   39.82        5.278      50.478001    6.996     572.840027   71.033997\n",
            "    4.086      72.466003   53.939999   38.032001    4.046      29.086\n",
            "  670.940002    5.858      47.108002  410.359985    4.82        4.592\n",
            "   69.688004  633.25        5.22       27.472      96.001999   46.194\n",
            "  425.920013   19.469999    5.656      73.029999    5.896       7.684\n",
            "  621.440002  684.900024   53.226002    5.664      40.939999  126.846001\n",
            "   50.902       7.316       5.362     804.820007    4.588     875.76001\n",
            "   41.358002   16.968      73.351997   45.928001    6.756      37.\n",
            "    6.162      51.584      61.16      864.369995   43.042      46.882\n",
            "   50.972      39.318001   63.026001   39.312      39.466      52.905998\n",
            "   40.189999   15.352       6.012      47.153999   37.712002   47.444\n",
            " 1070.339966   48.82        5.464     759.48999    49.848     829.099976\n",
            "    5.96       27.472     371.339996  197.195999  197.195999   53.276001\n",
            "    5.352       6.88       76.690002    3.41      640.390015  424.230011\n",
            "  109.440002  852.22998    44.722      51.136002    4.086    1013.919983\n",
            "   41.040001   53.790001   48.903999   63.366001  743.        146.421997\n",
            "  410.359985    6.23       41.467999  421.200012    5.754       5.968\n",
            "   53.439999    5.44        5.858      20.408001   43.650002  654.869995\n",
            "   38.18       63.009998   45.784      37.736       4.722       5.484\n",
            "    4.802      43.375999   43.858002   18.299999    5.352       5.988\n",
            "   16.968     149.272003   40.869999   43.650002  159.75       67.571999\n",
            "    6.028      63.914001  729.400024   48.243999 1156.869995    6.32\n",
            "  751.940002   58.816002  693.72998   739.380005  904.549988  297.915985\n",
            " 1037.859985  739.380005   46.653999   69.164001   48.009998   65.68\n",
            "   64.019997   55.835999    5.288      29.912001   39.139999   50.59\n",
            "   30.256001  625.219971    7.064      51.382      30.6         6.718\n",
            "   40.667999    6.208       5.752      88.601997   30.6         4.21\n",
            "  684.900024   61.77       71.375999   54.355999   44.728001   43.911999\n",
            "  839.809998   48.152     640.390015   48.535999   44.647999   49.174\n",
            "   47.438       5.466      43.813999   48.152      48.938      54.445999\n",
            "    4.728      36.787998  162.257996   44.136002   27.93        7.032\n",
            "  576.830017   43.948002    5.946     109.767998   31.034       3.978\n",
            "    4.932      31.988001   19.552       5.104      44.568001  846.349976\n",
            "    6.45       50.112      48.630001  387.790009    5.898       6.774\n",
            "   46.006001   70.585999   49.419998    7.504     159.75       39.993999\n",
            "   44.512001    6.516      52.403999    9.118      61.501999   48.360001\n",
            "    5.49        4.778       4.11       33.787998   66.959999   70.410004\n",
            "   40.754002    4.466      45.917999    6.718      44.136002  297.003998\n",
            "   43.716      49.785999   36.195999   47.108002  718.98999    48.938\n",
            "   28.648001  824.400024   70.101997   43.858002  154.255997   69.905998\n",
            "  922.429993   55.972      46.391998  793.609985    7.316      60.630001\n",
            "   48.938       5.398      40.189999  623.309998   62.362      69.498001\n",
            "    5.954      39.82       30.02       60.203999   50.284       6.644\n",
            "  198.863998    7.504     864.369995   62.652      59.740002   52.082001\n",
            "   39.82        5.74       32.826      65.433998   41.554001  297.915985\n",
            "    3.94       69.234001    5.836       5.754       6.756       5.724\n",
            "   46.512001   41.784      24.486      60.203999  858.969971   67.019997\n",
            "   37.717999    6.584      56.452      46.358002    6.454      67.970001\n",
            "   75.068001   56.751999    4.39       32.986       5.85       61.209999\n",
            "   82.940002  273.175995    5.58       54.043999   61.501999   53.276001\n",
            "    6.63       44.334    1229.910034    5.786      45.001999  623.309998\n",
            "  161.162003   45.158001    4.07      966.409973  684.900024   58.048\n",
            "    5.542      28.4         5.56      655.900024   64.694      42.757999\n",
            "   52.976002   49.051998   59.040001  714.630005   48.967999   53.276001\n",
            "    7.058       6.632      69.209999    6.632      20.48      309.201996\n",
            "    6.18       44.217999    4.802      50.006001    5.706      62.166\n",
            "    7.398     904.549988   58.245998    6.082      66.959999    5.51\n",
            "   59.740002   43.858002    4.964       6.332      60.877998   26.846001\n",
            "    6.838       5.34       58.245998   38.486    1149.589966   63.509998\n",
            "   30.6        51.987999   61.004002   51.068001   58.301998    5.686\n",
            "    4.396      43.891998  751.940002   36.68      183.483994   40.712002\n",
            "   63.458     677.         46.094002  649.26001    52.         71.678001\n",
            "    5.596      52.764       5.882      20.01       40.341999   45.397999\n",
            "    7.032      10.822      55.490002    6.78        6.438     421.200012\n",
            "   43.299999   37.613998  421.940002   96.001999]\n"
          ]
        }
      ]
    },
    {
      "cell_type": "code",
      "source": [
        "\n",
        "print(\"Mean Absolute Error:\", round(metrics.mean_absolute_error(y_test, dt), 4))\n",
        "print(\"Mean Squared Error:\", round(metrics.mean_squared_error(y_test, dt), 4))\n",
        "print(\"Root Mean Squared Error:\", round(np.sqrt(metrics.mean_squared_error(y_test, dt)), 4))\n",
        "print(\"(R^2) Score:\", round(metrics.r2_score(y_test, dt), 4))\n",
        "print(f'Train Score : {clf.score(X_train, y_train) * 100:.2f}% and Test Score : {clf.score(X_test, y_test) * 100:.2f}% using Decision Tree.')\n",
        "errors = abs(dt - y_test)\n",
        "mape = 100 * (errors / y_test)\n",
        "accuracy = 100 - np.mean(mape)\n",
        "print('Accuracy:', round(accuracy, 2), '%.')"
      ],
      "metadata": {
        "colab": {
          "base_uri": "https://localhost:8080/"
        },
        "id": "3Jrdb_VTZGam",
        "outputId": "f3c0c4c5-bd69-477f-e2ef-6f8a0863c112"
      },
      "execution_count": null,
      "outputs": [
        {
          "output_type": "stream",
          "name": "stdout",
          "text": [
            "Mean Absolute Error: 0.704\n",
            "Mean Squared Error: 11.0677\n",
            "Root Mean Squared Error: 3.3268\n",
            "(R^2) Score: 0.9998\n",
            "Train Score : 100.00% and Test Score : 99.98% using Decision Tree.\n",
            "Accuracy: 99.71 %.\n"
          ]
        }
      ]
    },
    {
      "cell_type": "code",
      "source": [
        "from sklearn.neighbors import KNeighborsRegressor"
      ],
      "metadata": {
        "id": "-BjN-jrlZIXi"
      },
      "execution_count": null,
      "outputs": []
    },
    {
      "cell_type": "code",
      "source": [
        "#KNN\n",
        "knn_regressor = KNeighborsRegressor(n_neighbors = 5)\n",
        "knn_model = knn_regressor.fit(X_train,y_train)\n",
        "knn_pred = knn_model.predict(X_test)\n",
        "print(knn_pred)"
      ],
      "metadata": {
        "colab": {
          "base_uri": "https://localhost:8080/"
        },
        "id": "NNKzowFiZJg7",
        "outputId": "1c5d0e17-0b12-42b0-ac22-7c7809622117"
      },
      "execution_count": null,
      "outputs": [
        {
          "output_type": "stream",
          "name": "stdout",
          "text": [
            "[  71.6060008    6.7076       5.92         6.0776      49.9263992\n",
            "   43.682801    12.7216      50.0543998  112.8336014   41.0955992\n",
            "    5.8884       4.9036      41.8928002    4.2636      75.1316022\n",
            "   60.876401    38.8383998   51.2920008  861.5419922   61.358799\n",
            "    5.7308      47.0488     830.4379884    5.1828       6.1464\n",
            "    4.8764      74.4188006   67.3291998   47.9172006    4.0712\n",
            "    6.4436      36.6272002   28.9144006   43.3351998   47.1800004\n",
            "   47.1616006   44.1460006 1097.423999    41.8608008  415.176001\n",
            "    6.8424      67.7935982   56.500799     5.4672       6.2388\n",
            "  146.9948028    5.8884      70.2903988   46.4168006   39.7032006\n",
            "   40.6836008    6.6936      41.295201    40.4996002   61.8992004\n",
            "  810.3119874    6.3564     423.3539978   47.874       60.6596\n",
            "  419.0739988   65.1407998   61.6572006   45.5295998   37.0284004\n",
            "    6.1056      47.0115994   30.4056006   55.9307998  845.7159792\n",
            "   51.8196      45.8991998  402.7164002   44.269201   746.7820068\n",
            "   58.2776    1112.2659912   42.0612008   77.6492004   48.5355996\n",
            "   49.0383994    5.1272     708.4959838  629.6139894    6.468\n",
            "  421.7420044  611.0059938   40.5531998   41.6276      39.786\n",
            "  159.4980012    5.526       38.0091994   61.6272006 1045.2780028\n",
            "    6.6672      48.6587998    5.952        6.3564     712.2119992\n",
            "   42.6696006   61.547201  1086.7879638   49.0975992   32.6912006\n",
            "   47.3792002    5.8416    1156.0879882    5.5616      46.3980002\n",
            "  663.7439816  664.7700074    7.3752    1129.1139892    5.8056\n",
            "  788.930005     5.0804     713.9419922   62.8127992    5.1976\n",
            "   50.1492014    6.052       45.1531998   61.887201    42.8355994\n",
            "   69.4059994  316.5731996   55.6304       4.1864      28.0500004\n",
            "   59.7671998   58.6683992    9.0916      62.6068      60.409201\n",
            "   40.240399    55.0927994  307.0824034   44.1984       5.6528\n",
            "   38.9372002    5.5412      49.6024002   54.2463998   69.7531996\n",
            "   49.0160004    6.3216       4.1936       4.93       750.6300048\n",
            "   64.4823996    6.1432      39.3856002    5.508        5.4624\n",
            "    5.8168      63.1284012   50.0544006    5.698        6.4892\n",
            "   50.3191994   45.682001   810.3119874  746.7820068    5.762\n",
            "   60.1963996   46.102801     5.916       45.0003998    7.0444\n",
            "   57.8152018    5.8208      28.4672002   49.3775994   41.564\n",
            "   42.7272004   44.5767996   41.5827994   63.5016     421.0420044\n",
            "  160.7903962   62.0995994   51.2299996   60.854799    40.5788008\n",
            "  586.5540038  369.5599976   38.9056      54.3631998    5.8996\n",
            "  150.9503998   25.6723998   37.1171998   48.452799     7.4184\n",
            "   69.5031998    8.274      416.1539978   98.7331998   87.1376006\n",
            "  862.623987    44.8104012   49.2148004    6.168       38.7316002\n",
            "    5.508       51.1344       6.2884     594.6580078   69.5332002\n",
            "    4.1292      71.8328002   54.3368004   40.3423996    4.4712\n",
            "   31.3159992  668.3580078    5.8552      46.8287992  407.0335998\n",
            "    5.0292       4.5888      67.2828002  648.73999      5.2336\n",
            "   27.0611998   93.3668008   44.9611998  429.1219972   21.4443998\n",
            "    5.6532      70.2380004    5.9124       7.124      611.9819948\n",
            "  667.347998    51.9419998    5.8748      40.778801   107.6932008\n",
            "   50.7863998    6.5236       5.6676     837.721985     5.5296\n",
            "  908.3500002   40.4327996   30.2964002   67.1671996   43.8232002\n",
            "    6.4936      38.9655998    6.5068      50.4972      60.1483994\n",
            "  865.771997    42.5512002   47.3792002   51.0911994   40.4508004\n",
            "   63.8856002   40.3832      40.2351996   51.4180002   40.7256004\n",
            "   42.5304004    6.244       46.9063996   37.3667998   46.6100006\n",
            " 1087.6659912   48.56         5.7108     782.1260012   51.3959998\n",
            "  835.9819946    6.094       32.2239998  409.452002   197.6947998\n",
            "  193.4379976   50.9248002    6.5404       6.49        72.2451996\n",
            "    4.8764     623.8180052  413.4119996  102.350398   852.493994\n",
            "   44.5767996   50.8328004    4.1724    1032.511987    41.1576004\n",
            "   50.5859992   50.1492014   62.7227988  719.617993   129.9692016\n",
            "  433.0215944    5.8424      41.644001   412.904004     5.7984\n",
            "    5.992       53.8644004    6.3588       5.758       25.2407996\n",
            "   43.6308006  649.3899902   37.4780006   65.0971992   45.9228006\n",
            "   38.3727994    4.6644       5.628        4.896       43.0991996\n",
            "   42.9187996   25.0180004    5.56         5.9848      65.469601\n",
            "  144.3928008   39.8115996   43.056801   160.7903962   67.3543976\n",
            "   22.4639996   61.9755996  718.1099854   48.3784014 1156.0879882\n",
            "    6.1596     746.7820068   58.6683992  691.9479858  736.6399902\n",
            "  918.2459962  291.4635926 1056.4079834  733.4339964   42.7884002\n",
            "   68.714       49.0955996   64.2291994   63.8148002   52.3480004\n",
            "    5.718       37.9132006   31.7524004   54.3875992   31.8935988\n",
            "  663.3779908    6.2608      49.2020004   39.2780008    6.8252\n",
            "   41.0372       6.0248       5.652       80.7940004   29.1967998\n",
            "    4.5156     684.619995    60.4451996   65.9412008   53.2335998\n",
            "   46.2347992   43.2823998  837.721985    47.2055998  637.8680052\n",
            "   48.6844002   43.7528008   45.8127998   47.5272004    5.4596\n",
            "   42.6492012   48.9875994   47.3979988   52.7327994    5.0304\n",
            "   37.909201   160.7903962   44.2556008   30.2964002    6.8252\n",
            "  589.7320068   44.542        5.9144     107.0123976   35.2636006\n",
            "    4.3348       4.1936      33.4992006   27.3628002    5.4864\n",
            "   45.6776008  841.1019896    6.516       42.2072      48.408799\n",
            "  424.2859986    6.1708       6.1468      44.4867994   69.8412002\n",
            "   49.3079994    7.0444     160.7219972   40.9780008   44.7311998\n",
            "    6.454       51.6716004    7.1964      61.4191994   48.0627998\n",
            "    5.6556       5.0772       4.1108      33.2684      66.8867982\n",
            "   70.1336012   42.5904002    5.0208      45.519201     6.4696\n",
            "   46.6615996  306.5140014   43.6308006   46.9712008   35.1551994\n",
            "   47.24       701.3999876   49.5028      29.8980002  838.2939942\n",
            "   65.8751998   44.1999992  157.9783968   51.5612002  918.1319948\n",
            "   55.0316002   44.4920006  789.4580078    6.4444      58.2796008\n",
            "   47.1555998    5.534       40.9920006  608.4640014   62.5156008\n",
            "   68.887201     5.9212      39.5240006   28.9144006   61.4012\n",
            "   48.5744004    6.2864     185.1859986    6.5712     852.493994\n",
            "   63.2411988   62.9176004   53.5788012   39.7368004    5.9448\n",
            "   37.2608      65.7415994   43.0192008  291.4635926    4.1048\n",
            "   68.368799     5.7716       5.672        6.552        5.4732\n",
            "   44.6399994   41.1308004   27.2800004   60.8843994  869.25\n",
            "   68.143599    41.5460004    6.4656      54.1503998   46.5244002\n",
            "    6.1432      67.7735994   74.5283994   59.264        4.722\n",
            "   37.4459998    5.9228      62.517598    75.1316022  287.6511964\n",
            "    5.4204      52.7267996   59.7728006   51.9084       6.2008\n",
            "   44.5371994 1177.443994     5.8076      45.6220008  608.4640014\n",
            "  161.407602    45.0003998    5.7332    1039.045996   673.273999\n",
            "   59.6071984   24.1044      24.7815996    6.0316     648.73999\n",
            "   66.1960006   42.4472      75.1316022   49.8935996   64.5884002\n",
            "  711.245996    42.6267998   47.5284006    6.4936       6.3728\n",
            "   67.8875994    6.3532      25.2407996  299.8276002    6.0392\n",
            "   42.3200004    5.52        51.2920008    6.042       60.3967994\n",
            "    6.2608     922.4459962   58.2383996    6.0188      64.8683992\n",
            "    5.6124      58.921199    43.5592004    4.9036       6.5668\n",
            "   59.7911996   35.0523998    6.1432       5.4224      60.8619996\n",
            "   38.5256004 1136.1159912   60.7336006   31.7524004   51.3183998\n",
            "   61.6708008   49.5148004   59.2235992    5.39         5.9864\n",
            "   44.2863998  752.5160034   38.6559998  128.519203    41.6276\n",
            "   64.6952006  667.1299924   45.1771996  645.570007    51.3752008\n",
            "   70.7396012    5.586       51.5456002    5.568       26.4567996\n",
            "   39.8779998   47.9416002    7.112        8.162       55.0564002\n",
            "    6.3572       6.3568     422.4015992   43.0192008   39.1391998\n",
            "  411.795996   107.0123976]\n"
          ]
        }
      ]
    },
    {
      "cell_type": "code",
      "source": [
        "print(\"Mean Absolute Error:\", round(metrics.mean_absolute_error(y_test, knn_pred), 4))\n",
        "print(\"Mean Squared Error:\", round(metrics.mean_squared_error(y_test, knn_pred), 4))\n",
        "print(\"Root Mean Squared Error:\", round(np.sqrt(metrics.mean_squared_error(y_test, knn_pred)), 4))\n",
        "print(\"(R^2) Score:\", round(metrics.r2_score(y_test, knn_pred), 4))\n",
        "print(f'Train Score : {knn_model.score(X_train, y_train) * 100:.2f}% and Test Score : {knn_model.score(X_test, y_test) * 100:.2f}% using KNN.')\n",
        "errors = abs(knn_pred - y_test)\n",
        "mape = 100 * (errors / y_test)\n",
        "accuracy = 100 - np.mean(mape)\n",
        "print('Accuracy:', round(accuracy, 2), '%.') "
      ],
      "metadata": {
        "colab": {
          "base_uri": "https://localhost:8080/"
        },
        "id": "JglcoshHZK-1",
        "outputId": "54c75c39-41de-4011-83fb-44a0b4e10c05"
      },
      "execution_count": null,
      "outputs": [
        {
          "output_type": "stream",
          "name": "stdout",
          "text": [
            "Mean Absolute Error: 3.9654\n",
            "Mean Squared Error: 109.0615\n",
            "Root Mean Squared Error: 10.4432\n",
            "(R^2) Score: 0.9984\n",
            "Train Score : 99.88% and Test Score : 99.84% using KNN.\n",
            "Accuracy: 93.25 %.\n"
          ]
        }
      ]
    },
    {
      "cell_type": "code",
      "source": [
        "from sklearn.model_selection import KFold \n",
        "from sklearn.model_selection import cross_val_score\n",
        "from sklearn.model_selection import cross_val_predict"
      ],
      "metadata": {
        "id": "OF8YjckwZQWI"
      },
      "execution_count": null,
      "outputs": []
    },
    {
      "cell_type": "code",
      "source": [
        "\n",
        "\n",
        "kfold = KFold(n_splits=20, random_state=100, shuffle=True)\n",
        "\n",
        "results_kfold = cross_val_score(lr_model, X_test, y_test.astype('int'), cv=kfold)\n",
        "\n",
        "print(\"Accuracy of Linear Regression: \", results_kfold.mean()*100)"
      ],
      "metadata": {
        "colab": {
          "base_uri": "https://localhost:8080/"
        },
        "id": "KISNZzmGZR-Z",
        "outputId": "efa41390-bbff-4adc-c650-a83200c98403"
      },
      "execution_count": null,
      "outputs": [
        {
          "output_type": "stream",
          "name": "stdout",
          "text": [
            "Accuracy of Linear Regression:  99.99980366555148\n"
          ]
        }
      ]
    },
    {
      "cell_type": "code",
      "source": [
        "svm_kfold = KFold(n_splits=20, random_state=100, shuffle=True)\n",
        "results_kfold = cross_val_score(regr, X_test, y_test.astype('int'), cv=kfold)\n",
        "print(\"Accuracy of SVM: \", results_kfold.mean()*100)"
      ],
      "metadata": {
        "colab": {
          "base_uri": "https://localhost:8080/"
        },
        "id": "Ipm9_FqEZTbe",
        "outputId": "016e7555-b0b7-4656-8e3e-c47e3be02c20"
      },
      "execution_count": null,
      "outputs": [
        {
          "output_type": "stream",
          "name": "stdout",
          "text": [
            "Accuracy of SVM:  99.96712662215751\n"
          ]
        }
      ]
    },
    {
      "cell_type": "code",
      "source": [
        "dt_kfold = KFold(n_splits=20, random_state=100, shuffle=True)\n",
        "results_kfold = cross_val_score(clf, X_test, y_test.astype('int'), cv=kfold)\n",
        "print(\"Accuracy of Decision Tree: \", results_kfold.mean()*100)"
      ],
      "metadata": {
        "colab": {
          "base_uri": "https://localhost:8080/"
        },
        "id": "oRscux7QZT1w",
        "outputId": "31392dd5-7879-4259-a345-596304e9fc8e"
      },
      "execution_count": null,
      "outputs": [
        {
          "output_type": "stream",
          "name": "stdout",
          "text": [
            "Accuracy of Decision Tree:  99.9562150378296\n"
          ]
        }
      ]
    },
    {
      "cell_type": "code",
      "source": [
        "knn_kfold = KFold(n_splits=20, random_state=100, shuffle=True)\n",
        "results_kfold = cross_val_score(knn_model, X_test, y_test.astype('int'), cv=kfold)\n",
        "print(\"Accuracy of KNN: \", results_kfold.mean()*100)"
      ],
      "metadata": {
        "colab": {
          "base_uri": "https://localhost:8080/"
        },
        "id": "55cKiKVlZWEf",
        "outputId": "0e7e99f2-d557-4795-d7b1-ce30c73ffc8c"
      },
      "execution_count": null,
      "outputs": [
        {
          "output_type": "stream",
          "name": "stdout",
          "text": [
            "Accuracy of KNN:  99.31301719069097\n"
          ]
        }
      ]
    },
    {
      "cell_type": "code",
      "source": [],
      "metadata": {
        "id": "7uu4kDqaZiwc"
      },
      "execution_count": null,
      "outputs": []
    }
  ]
}